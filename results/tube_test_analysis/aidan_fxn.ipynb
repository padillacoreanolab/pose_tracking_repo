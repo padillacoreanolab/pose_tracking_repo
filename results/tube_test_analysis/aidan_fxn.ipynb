{
 "cells": [
  {
   "cell_type": "code",
   "execution_count": null,
   "metadata": {},
   "outputs": [],
   "source": [
    "def create_events_array(thresh, feature, greater_than = False):\n",
    "    \"\"\"\n",
    "    This function will create a 2D array of start and stop frames for which \n",
    "    a given feature passes a given threshold. The output is an array of two\n",
    "    element arrays, where the first value is the start frame and the second \n",
    "    value is the stop frame. \n",
    "\n",
    "    Args (3 total, 2 required):\n",
    "        thresh: float, threshold value to filter frames\n",
    "        feature: 1D numpy array, values of some feature for each frame\n",
    "        greater_than: Bool, default = False, True if finding frames where feature >= thresh, False for <=\n",
    "\n",
    "    Return (1):\n",
    "        output: 2D numpy array, Pairs of start and stop frames for which the value of the feature agrees with your filter    \n",
    "    \"\"\"\n",
    "    if greater_than:\n",
    "        ind1 = feature.index[feature >= thresh].tolist()\n",
    "    else:\n",
    "        ind1 = feature.index[feature <= thresh].tolist()\n",
    "    start = []\n",
    "    start.append(ind1[0])\n",
    "\n",
    "    end = []\n",
    "\n",
    "    for i in range(len(ind1)-1):\n",
    "        if (ind1[i]-ind1[i-1])>3:\n",
    "            start.append(ind1[i])\n",
    "        \n",
    "        if (ind1[i+1]-ind1[i])>3:\n",
    "            end.append(ind1[i])\n",
    "\n",
    "    end.append(ind1[-1])\n",
    "\n",
    "    output = np.column_stack((start, end))\n",
    "    return output\n"
   ]
  }
 ],
 "metadata": {
  "language_info": {
   "name": "python"
  }
 },
 "nbformat": 4,
 "nbformat_minor": 2
}
