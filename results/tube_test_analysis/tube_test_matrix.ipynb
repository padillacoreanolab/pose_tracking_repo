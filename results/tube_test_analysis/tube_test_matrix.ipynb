{
 "cells": [
  {
   "cell_type": "code",
   "execution_count": 1,
   "id": "07bc6114",
   "metadata": {},
   "outputs": [],
   "source": [
    "import numpy as np\n",
    "import math\n",
    "import pandas as pd\n",
    "import matplotlib.pyplot as plt"
   ]
  },
  {
   "cell_type": "code",
   "execution_count": 35,
   "id": "b6a1381e",
   "metadata": {},
   "outputs": [
    {
     "name": "stdout",
     "output_type": "stream",
     "text": [
      "1  runner                 date     match winner loser notes\n",
      "0    Ezra  2022-07-11 00:00:00  1.1vs1.2    1.2   1.1   NaN\n",
      "1     NaN                  NaN  1.2vs1.3    1.2   1.3   NaN\n",
      "2     NaN                  NaN  1.3vs1.4    1.3   1.4   NaN\n",
      "3     NaN                  NaN  1.1vs1.3    1.3   1.1   NaN\n",
      "4     NaN                  NaN  1.2vs1.4    1.2   1.4   NaN\n",
      "..    ...                  ...       ...    ...   ...   ...\n",
      "79    NaN                  NaN  1.4vs1.1    1.1   1.4   NaN\n",
      "80    NaN                  NaN  1.1vs1.3    1.1   1.3   NaN\n",
      "81    NaN                  NaN  1.2vs1.4    1.2   1.4   NaN\n",
      "82    NaN                  NaN  1.4vs1.3    1.3   1.4   NaN\n",
      "83    NaN                  NaN  1.2vs1.1    1.1   1.2   NaN\n",
      "\n",
      "[84 rows x 6 columns]\n"
     ]
    }
   ],
   "source": [
    "# read in excel file \n",
    "file_path = '/Users/kaavya/Downloads/iwata_pilot_2_tube_test.xlsx'\n",
    "df_cage = pd.read_excel(file_path, sheet_name='CAGE1', header=None) \n",
    "df_cage.columns = df_cage.iloc[1]  # Set the second row as the header\n",
    "df_cage.columns = df_cage.columns.str.lower().str.strip()\n",
    "df_cage = df_cage[2:]  # Remove the first two rows\n",
    "df_cage.reset_index(drop=True, inplace=True)\n",
    "\n",
    "print(df_cage)"
   ]
  },
  {
   "cell_type": "code",
   "execution_count": 36,
   "id": "d3258877",
   "metadata": {},
   "outputs": [
    {
     "name": "stdout",
     "output_type": "stream",
     "text": [
      "     1.1  1.2  1.3  1.4\n",
      "1.1    0    9   10   14\n",
      "1.2    5    0   11   14\n",
      "1.3    4    3    0   14\n",
      "1.4    0    0    0    0\n"
     ]
    }
   ],
   "source": [
    "\n",
    "#look at unique values in winners and losers column b/c formatting in match column is different for each excel file \n",
    "unique_winners = df_cage['winner'].unique()\n",
    "unique_losers = df_cage['loser'].unique()\n",
    "\n",
    "# convert into list and find unique IDs\n",
    "id_list = np.unique(np.concatenate((unique_winners, unique_losers)))\n",
    "unique_ids = list(set(id_list))\n",
    "\n",
    "#organizes them numerically\n",
    "unique_ids.sort(key=lambda x: float(x)) \n",
    "\n",
    "# list the unique IDs for matrix column and rows (df.index (rows), df.columns)\n",
    "matrix_cage = pd.DataFrame(0, index=unique_ids, columns=unique_ids)\n",
    "\n",
    "# read winner/loser and add value \n",
    "for i, row in df_cage.iterrows():\n",
    "    winner = row['winner']\n",
    "    loser = row['loser']\n",
    "    matrix_cage.loc[winner, loser] += 1\n",
    "print(matrix_cage)    \n",
    "\n"
   ]
  },
  {
   "cell_type": "code",
   "execution_count": null,
   "id": "a8e8b5bf",
   "metadata": {},
   "outputs": [],
   "source": []
  }
 ],
 "metadata": {
  "kernelspec": {
   "display_name": "Python 3 (ipykernel)",
   "language": "python",
   "name": "python3"
  },
  "language_info": {
   "codemirror_mode": {
    "name": "ipython",
    "version": 3
   },
   "file_extension": ".py",
   "mimetype": "text/x-python",
   "name": "python",
   "nbconvert_exporter": "python",
   "pygments_lexer": "ipython3",
   "version": "3.11.0"
  }
 },
 "nbformat": 4,
 "nbformat_minor": 5
}
