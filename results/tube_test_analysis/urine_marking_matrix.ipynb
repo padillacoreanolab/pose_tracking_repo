{
 "cells": [
  {
   "cell_type": "code",
   "execution_count": 90,
   "id": "0ab8bdb4",
   "metadata": {},
   "outputs": [],
   "source": [
    "import numpy as np\n",
    "import math\n",
    "import pandas as pd\n",
    "import matplotlib.pyplot as plt"
   ]
  },
  {
   "cell_type": "code",
   "execution_count": 91,
   "id": "f3410e1d",
   "metadata": {},
   "outputs": [
    {
     "name": "stdout",
     "output_type": "stream",
     "text": [
      "         date      match  left_number_of_spots  right_number_of_spots  winner  \\\n",
      "0  2022-05-18  4.1 v 4.2                    97                     45     4.1   \n",
      "1  2022-05-18  4.3 v 4.4                    79                     93     4.4   \n",
      "2  2022-05-19  4.1 v 4.2                    25                     78     4.2   \n",
      "3  2022-05-19  4.3 v 4.4                    22                    117     4.4   \n",
      "4  2022-05-20  4.1 v 4.3                    10                      0     4.1   \n",
      "5  2022-05-20  4.2 v 4.4                     5                     70     4.4   \n",
      "6  2022-05-24  4.1 v 4.4                    26                    137     4.4   \n",
      "7  2022-05-24  4.2 v 4.3                    20                     24     4.3   \n",
      "8  2022-05-25  4.1 v 4.2                    21                      9     4.1   \n",
      "9  2022-05-27  4.3 v 4.4                    18                    308     4.4   \n",
      "10 2022-06-01  4.3 v 4.4                     3                     71     4.4   \n",
      "\n",
      "    loser  spot_number_difference  percent_difference ties  \n",
      "0     4.2                      52            0.732394  NaN  \n",
      "1     4.3                      14            0.162791  tie  \n",
      "2     4.1                      53            1.029126  NaN  \n",
      "3     4.3                      95            1.366906  NaN  \n",
      "4     4.3                      10            2.000000  NaN  \n",
      "5     4.2                      65            1.733333  NaN  \n",
      "6     4.1                     111            1.361963  NaN  \n",
      "7     4.2                       4            0.181818  tie  \n",
      "8     4.2                      12            0.800000  NaN  \n",
      "9     4.3                     290            1.779141  NaN  \n",
      "10    4.3                      68            1.837838  NaN  \n"
     ]
    }
   ],
   "source": [
    "# read in excel file \n",
    "file_path = '/Users/kaavya/Downloads/iwata_pilot_1_urine_marking_assay_with_threshold.xlsx'\n",
    "df_cage = pd.read_excel(file_path, sheet_name='CAGE4') \n",
    "print(df_cage)\n"
   ]
  },
  {
   "cell_type": "code",
   "execution_count": 92,
   "id": "9b855ce8",
   "metadata": {},
   "outputs": [
    {
     "name": "stdout",
     "output_type": "stream",
     "text": [
      "     4.1  4.2  4.3  4.4\n",
      "4.1    0    2    1    0\n",
      "4.2    1    0    0    0\n",
      "4.3    0    0    0    0\n",
      "4.4    1    1    3    0\n"
     ]
    }
   ],
   "source": [
    "#remove tied rows \n",
    "df_cage[\"ties\"] = df_cage[\"ties\"].astype(str)\n",
    "tie = df_cage[\"ties\"].str.contains(\"tie\", case=False)\n",
    "df_cage = df_cage[~tie]\n",
    "\n",
    "# isolate each ID in \"match\" column\n",
    "df['first_id'] = df_cage['match'].str.split(' ').str[0]\n",
    "df['last_id'] = df_cage['match'].str.split(' ').str[-1]\n",
    "\n",
    "# convert into list and find unique IDs\n",
    "id_list = df['first_id'].dropna().tolist() + df['last_id'].dropna().tolist()\n",
    "unique_ids = list(set(id_list))\n",
    "\n",
    "#organizes them numerically\n",
    "unique_ids.sort(key=lambda x: float(x)) \n",
    "\n",
    "# list the unique IDs for matrix column and rows (df.index (rows), df.columns)\n",
    "matrix_cage = pd.DataFrame(0, index=unique_ids, columns=unique_ids)\n",
    "\n",
    "# read winner/loser and add value \n",
    "for i, row in df_cage.iterrows():\n",
    "    winner = str(row['winner'])\n",
    "    loser = str(row['loser'])\n",
    "    matrix_cage.loc[winner, loser] += 1\n",
    "print(matrix_cage)    \n"
   ]
  },
  {
   "cell_type": "code",
   "execution_count": null,
   "id": "ffaa35f0",
   "metadata": {},
   "outputs": [],
   "source": []
  }
 ],
 "metadata": {
  "kernelspec": {
   "display_name": "Python 3 (ipykernel)",
   "language": "python",
   "name": "python3"
  },
  "language_info": {
   "codemirror_mode": {
    "name": "ipython",
    "version": 3
   },
   "file_extension": ".py",
   "mimetype": "text/x-python",
   "name": "python",
   "nbconvert_exporter": "python",
   "pygments_lexer": "ipython3",
   "version": "3.11.0"
  }
 },
 "nbformat": 4,
 "nbformat_minor": 5
}
