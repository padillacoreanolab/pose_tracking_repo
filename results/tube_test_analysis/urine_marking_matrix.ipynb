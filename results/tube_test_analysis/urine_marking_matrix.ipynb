{
 "cells": [
  {
   "cell_type": "code",
   "execution_count": 8,
   "id": "0ab8bdb4",
   "metadata": {},
   "outputs": [],
   "source": [
    "import numpy as np\n",
    "import math\n",
    "import pandas as pd\n",
    "import matplotlib.pyplot as plt"
   ]
  },
  {
   "cell_type": "code",
   "execution_count": 11,
   "id": "f3410e1d",
   "metadata": {},
   "outputs": [
    {
     "name": "stdout",
     "output_type": "stream",
     "text": [
      "   tube test results           Unnamed: 1 Unnamed: 2 Unnamed: 3 Unnamed: 4  \\\n",
      "0             runner                 date      match     winner      loser   \n",
      "1               Ezra  2022-07-11 00:00:00   1.1vs1.2        1.2        1.1   \n",
      "2                NaN                  NaN   1.2vs1.3        1.2        1.3   \n",
      "3                NaN                  NaN   1.3vs1.4        1.3        1.4   \n",
      "4                NaN                  NaN   1.1vs1.3        1.3        1.1   \n",
      "..               ...                  ...        ...        ...        ...   \n",
      "80               NaN                  NaN   1.4vs1.1        1.1        1.4   \n",
      "81               NaN                  NaN   1.1vs1.3        1.1        1.3   \n",
      "82               NaN                  NaN   1.2vs1.4        1.2        1.4   \n",
      "83               NaN                  NaN   1.4vs1.3        1.3        1.4   \n",
      "84               NaN                  NaN   1.2vs1.1        1.1        1.2   \n",
      "\n",
      "   Unnamed: 5  \n",
      "0       notes  \n",
      "1         NaN  \n",
      "2         NaN  \n",
      "3         NaN  \n",
      "4         NaN  \n",
      "..        ...  \n",
      "80        NaN  \n",
      "81        NaN  \n",
      "82        NaN  \n",
      "83        NaN  \n",
      "84        NaN  \n",
      "\n",
      "[85 rows x 6 columns]\n"
     ]
    }
   ],
   "source": [
    "# read in excel file \n",
    "file_path = '/Users/kaavya/Downloads/iwata_pilot_1_tube_test.xlsx'\n",
    "df_cage = pd.read_excel(file_path, sheet_name='CAGE1') \n",
    "print(df_cage)\n"
   ]
  },
  {
   "cell_type": "code",
   "execution_count": 13,
   "id": "9b855ce8",
   "metadata": {},
   "outputs": [
    {
     "ename": "KeyError",
     "evalue": "'winner'",
     "output_type": "error",
     "traceback": [
      "\u001b[0;31m---------------------------------------------------------------------------\u001b[0m",
      "\u001b[0;31mKeyError\u001b[0m                                  Traceback (most recent call last)",
      "File \u001b[0;32m~/anaconda3/lib/python3.11/site-packages/pandas/core/indexes/base.py:3790\u001b[0m, in \u001b[0;36mIndex.get_loc\u001b[0;34m(self, key)\u001b[0m\n\u001b[1;32m   3789\u001b[0m \u001b[38;5;28;01mtry\u001b[39;00m:\n\u001b[0;32m-> 3790\u001b[0m     \u001b[38;5;28;01mreturn\u001b[39;00m \u001b[38;5;28mself\u001b[39m\u001b[38;5;241m.\u001b[39m_engine\u001b[38;5;241m.\u001b[39mget_loc(casted_key)\n\u001b[1;32m   3791\u001b[0m \u001b[38;5;28;01mexcept\u001b[39;00m \u001b[38;5;167;01mKeyError\u001b[39;00m \u001b[38;5;28;01mas\u001b[39;00m err:\n",
      "File \u001b[0;32mindex.pyx:152\u001b[0m, in \u001b[0;36mpandas._libs.index.IndexEngine.get_loc\u001b[0;34m()\u001b[0m\n",
      "File \u001b[0;32mindex.pyx:181\u001b[0m, in \u001b[0;36mpandas._libs.index.IndexEngine.get_loc\u001b[0;34m()\u001b[0m\n",
      "File \u001b[0;32mpandas/_libs/hashtable_class_helper.pxi:7080\u001b[0m, in \u001b[0;36mpandas._libs.hashtable.PyObjectHashTable.get_item\u001b[0;34m()\u001b[0m\n",
      "File \u001b[0;32mpandas/_libs/hashtable_class_helper.pxi:7088\u001b[0m, in \u001b[0;36mpandas._libs.hashtable.PyObjectHashTable.get_item\u001b[0;34m()\u001b[0m\n",
      "\u001b[0;31mKeyError\u001b[0m: 'winner'",
      "\nThe above exception was the direct cause of the following exception:\n",
      "\u001b[0;31mKeyError\u001b[0m                                  Traceback (most recent call last)",
      "Cell \u001b[0;32mIn[13], line 11\u001b[0m\n\u001b[1;32m      1\u001b[0m \u001b[38;5;66;03m#remove tied rows \u001b[39;00m\n\u001b[1;32m      2\u001b[0m \u001b[38;5;66;03m#df_cage[\"ties\"] = df_cage[\"ties\"].astype(str)\u001b[39;00m\n\u001b[1;32m      3\u001b[0m \u001b[38;5;66;03m#tie = df_cage[\"ties\"].str.contains(\"tie\", case=False)\u001b[39;00m\n\u001b[0;32m   (...)\u001b[0m\n\u001b[1;32m      9\u001b[0m \n\u001b[1;32m     10\u001b[0m \u001b[38;5;66;03m#look at unique values in winners and losers column b/c formatting in match column is different for each excel file \u001b[39;00m\n\u001b[0;32m---> 11\u001b[0m unique_winners \u001b[38;5;241m=\u001b[39m df_cage[\u001b[38;5;124m'\u001b[39m\u001b[38;5;124mwinner\u001b[39m\u001b[38;5;124m'\u001b[39m]\u001b[38;5;241m.\u001b[39munique()\n\u001b[1;32m     12\u001b[0m unique_losers \u001b[38;5;241m=\u001b[39m df_cage[\u001b[38;5;124m'\u001b[39m\u001b[38;5;124mloser\u001b[39m\u001b[38;5;124m'\u001b[39m]\u001b[38;5;241m.\u001b[39munique()\n\u001b[1;32m     14\u001b[0m \u001b[38;5;66;03m# convert into list and find unique IDs\u001b[39;00m\n",
      "File \u001b[0;32m~/anaconda3/lib/python3.11/site-packages/pandas/core/frame.py:3896\u001b[0m, in \u001b[0;36mDataFrame.__getitem__\u001b[0;34m(self, key)\u001b[0m\n\u001b[1;32m   3894\u001b[0m \u001b[38;5;28;01mif\u001b[39;00m \u001b[38;5;28mself\u001b[39m\u001b[38;5;241m.\u001b[39mcolumns\u001b[38;5;241m.\u001b[39mnlevels \u001b[38;5;241m>\u001b[39m \u001b[38;5;241m1\u001b[39m:\n\u001b[1;32m   3895\u001b[0m     \u001b[38;5;28;01mreturn\u001b[39;00m \u001b[38;5;28mself\u001b[39m\u001b[38;5;241m.\u001b[39m_getitem_multilevel(key)\n\u001b[0;32m-> 3896\u001b[0m indexer \u001b[38;5;241m=\u001b[39m \u001b[38;5;28mself\u001b[39m\u001b[38;5;241m.\u001b[39mcolumns\u001b[38;5;241m.\u001b[39mget_loc(key)\n\u001b[1;32m   3897\u001b[0m \u001b[38;5;28;01mif\u001b[39;00m is_integer(indexer):\n\u001b[1;32m   3898\u001b[0m     indexer \u001b[38;5;241m=\u001b[39m [indexer]\n",
      "File \u001b[0;32m~/anaconda3/lib/python3.11/site-packages/pandas/core/indexes/base.py:3797\u001b[0m, in \u001b[0;36mIndex.get_loc\u001b[0;34m(self, key)\u001b[0m\n\u001b[1;32m   3792\u001b[0m     \u001b[38;5;28;01mif\u001b[39;00m \u001b[38;5;28misinstance\u001b[39m(casted_key, \u001b[38;5;28mslice\u001b[39m) \u001b[38;5;129;01mor\u001b[39;00m (\n\u001b[1;32m   3793\u001b[0m         \u001b[38;5;28misinstance\u001b[39m(casted_key, abc\u001b[38;5;241m.\u001b[39mIterable)\n\u001b[1;32m   3794\u001b[0m         \u001b[38;5;129;01mand\u001b[39;00m \u001b[38;5;28many\u001b[39m(\u001b[38;5;28misinstance\u001b[39m(x, \u001b[38;5;28mslice\u001b[39m) \u001b[38;5;28;01mfor\u001b[39;00m x \u001b[38;5;129;01min\u001b[39;00m casted_key)\n\u001b[1;32m   3795\u001b[0m     ):\n\u001b[1;32m   3796\u001b[0m         \u001b[38;5;28;01mraise\u001b[39;00m InvalidIndexError(key)\n\u001b[0;32m-> 3797\u001b[0m     \u001b[38;5;28;01mraise\u001b[39;00m \u001b[38;5;167;01mKeyError\u001b[39;00m(key) \u001b[38;5;28;01mfrom\u001b[39;00m \u001b[38;5;21;01merr\u001b[39;00m\n\u001b[1;32m   3798\u001b[0m \u001b[38;5;28;01mexcept\u001b[39;00m \u001b[38;5;167;01mTypeError\u001b[39;00m:\n\u001b[1;32m   3799\u001b[0m     \u001b[38;5;66;03m# If we have a listlike key, _check_indexing_error will raise\u001b[39;00m\n\u001b[1;32m   3800\u001b[0m     \u001b[38;5;66;03m#  InvalidIndexError. Otherwise we fall through and re-raise\u001b[39;00m\n\u001b[1;32m   3801\u001b[0m     \u001b[38;5;66;03m#  the TypeError.\u001b[39;00m\n\u001b[1;32m   3802\u001b[0m     \u001b[38;5;28mself\u001b[39m\u001b[38;5;241m.\u001b[39m_check_indexing_error(key)\n",
      "\u001b[0;31mKeyError\u001b[0m: 'winner'"
     ]
    }
   ],
   "source": [
    "#remove tied rows \n",
    "df_cage[\"ties\"] = df_cage[\"ties\"].astype(str)\n",
    "tie = df_cage[\"ties\"].str.contains(\"tie\", case=False)\n",
    "df_cage = df_cage[~tie]\n",
    "\n",
    "#look at unique values in winners and losers column b/c formatting in match column is different for each excel file \n",
    "unique_winners = df_cage['winner'].unique()\n",
    "unique_losers = df_cage['loser'].unique()\n",
    "\n",
    "# convert into list and find unique IDs\n",
    "id_list = np.unique(np.concatenate((unique_winners, unique_losers)))\n",
    "#id_list = df['first_id'].dropna().tolist() + df['last_id'].dropna().tolist()\n",
    "unique_ids = list(set(id_list))\n",
    "\n",
    "#organizes them numerically\n",
    "unique_ids.sort(key=lambda x: float(x)) \n",
    "\n",
    "# list the unique IDs for matrix column and rows (df.index (rows), df.columns)\n",
    "matrix_cage = pd.DataFrame(0, index=unique_ids, columns=unique_ids)\n",
    "\n",
    "# read winner/loser and add value \n",
    "for i, row in df_cage.iterrows():\n",
    "    winner = row['winner']\n",
    "    loser = row['loser']\n",
    "    matrix_cage.loc[winner, loser] += 1\n",
    "print(matrix_cage)    \n"
   ]
  },
  {
   "cell_type": "code",
   "execution_count": null,
   "id": "ffaa35f0",
   "metadata": {},
   "outputs": [],
   "source": []
  }
 ],
 "metadata": {
  "kernelspec": {
   "display_name": "Python 3 (ipykernel)",
   "language": "python",
   "name": "python3"
  },
  "language_info": {
   "codemirror_mode": {
    "name": "ipython",
    "version": 3
   },
   "file_extension": ".py",
   "mimetype": "text/x-python",
   "name": "python",
   "nbconvert_exporter": "python",
   "pygments_lexer": "ipython3",
   "version": "3.11.0"
  }
 },
 "nbformat": 4,
 "nbformat_minor": 5
}
