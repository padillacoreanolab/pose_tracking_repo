{
 "cells": [
  {
   "cell_type": "code",
   "execution_count": 15,
   "metadata": {},
   "outputs": [
    {
     "name": "stdout",
     "output_type": "stream",
     "text": [
      "1 out of 7 videos converted\n",
      "2 out of 7 videos converted\n",
      "3 out of 7 videos converted\n",
      "4 out of 7 videos converted\n",
      "5 out of 7 videos converted\n",
      "6 out of 7 videos converted\n",
      "7 out of 7 videos converted\n"
     ]
    }
   ],
   "source": [
    "import sys\n",
    "import os\n",
    "import glob\n",
    "import subprocess\n",
    "\n",
    "def convert_vid_sleap(input_folder, output_folder=None):\n",
    "    if output_folder is None:\n",
    "        output_folder = input_folder\n",
    "    data_path = input_folder + '\\*'\n",
    "    videos = glob.glob(data_path)\n",
    "    video = [glob.glob(f'*.mp4') for video in videos]\n",
    "    commands = []\n",
    "    for video in (videos):\n",
    "        video_dir, video_name = os.path.split(video)\n",
    "        new_name = os.path.join(output_folder, video_name.replace('.mp4', '_converted.mp4'))\n",
    "        if not os.path.exists(new_name):\n",
    "            command =  f'ffmpeg -y -i \"{video}\" -c:v libx264 -pix_fmt yuv420p -preset superfast -crf 23 \"{new_name}\"' \n",
    "            commands.append(command)\n",
    "    i = 0\n",
    "    for command in commands:\n",
    "       subprocess.Popen(command, shell=True).wait()\n",
    "       i +=1\n",
    "       print(i, 'out of', len(commands), 'videos converted')\n",
    "\n",
    "convert_vid_sleap('C:\\\\Users\\\\megha\\\\Documents\\\\Padilla-Coreano\\\\homecage_social_ephys_vids\\\\SLEAP_vids',\n",
    "                  \"C:\\\\Users\\\\megha\\\\Documents\\\\Padilla-Coreano\\\\homecage_social_ephys_vids\\\\converted_vids\")"
   ]
  },
  {
   "cell_type": "code",
   "execution_count": null,
   "metadata": {},
   "outputs": [],
   "source": []
  },
  {
   "cell_type": "code",
   "execution_count": null,
   "metadata": {},
   "outputs": [],
   "source": []
  }
 ],
 "metadata": {
  "kernelspec": {
   "display_name": "play",
   "language": "python",
   "name": "python3"
  },
  "language_info": {
   "codemirror_mode": {
    "name": "ipython",
    "version": 3
   },
   "file_extension": ".py",
   "mimetype": "text/x-python",
   "name": "python",
   "nbconvert_exporter": "python",
   "pygments_lexer": "ipython3",
   "version": "3.11.4"
  }
 },
 "nbformat": 4,
 "nbformat_minor": 2
}
