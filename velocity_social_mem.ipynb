{
 "cells": [
  {
   "cell_type": "code",
   "execution_count": 631,
   "metadata": {},
   "outputs": [],
   "source": [
    "import h5py\n",
    "import numpy as np\n",
    "import math\n",
    "import glob\n",
    "import os\n",
    "import seaborn as sns\n",
    "import pandas as pd\n",
    "import openpyxl\n",
    "import statistics as stat\n",
    "from scipy import stats\n",
    "from scipy import ndimage as ndi\n",
    "\n",
    "from functools import reduce\n",
    "from scipy.interpolate import interp1d\n",
    "from scipy.signal import savgol_filter\n",
    "import matplotlib.pyplot as plt\n",
    "from scipy.stats import linregress\n",
    "from scipy.optimize import curve_fit\n",
    "def hex_2_rgb(hex_color): # Orange color\n",
    "    rgb_color = tuple(int(hex_color[i:i+2], 16) / 255.0 for i in (1, 3, 5))\n",
    "    return rgb_color"
   ]
  },
  {
   "cell_type": "markdown",
   "metadata": {},
   "source": [
    "General Functions"
   ]
  },
  {
   "cell_type": "code",
   "execution_count": 632,
   "metadata": {},
   "outputs": [],
   "source": [
    "def get_running_total(lst: list) -> list:\n",
    "    \"\"\"\n",
    "    Compute the running total for a list of numbers.\n",
    "    \n",
    "    Given a list of numbers, this function returns a new list \n",
    "    where each element is the cumulative sum of the elements \n",
    "    up to that point in the original list.\n",
    "\n",
    "    Parameters:\n",
    "    - lst (list): A list of numbers.\n",
    "\n",
    "    Returns:\n",
    "    - list: A list containing the running total.\n",
    "\n",
    "    Example:\n",
    "    >>> get_running_total([1, 2, 3, 4])\n",
    "    [1, 3, 6, 10]\n",
    "    \"\"\"\n",
    "\n",
    "    def accumulator(acc, x):\n",
    "        if acc:\n",
    "            return acc + [acc[-1] + x]\n",
    "        else:\n",
    "            return [x]\n",
    "        \n",
    "    return reduce(accumulator, lst, [])\n",
    "\n",
    "def make_dict(my_list):\n",
    "    my_dict = {}\n",
    "    for i in range(len(my_list)):\n",
    "        my_dict[my_list[i]] = i\n",
    "    return my_dict\n",
    "\n",
    "def fill_missing(Y, kind=\"linear\"):\n",
    "    \"\"\"Fills missing values independently along each dimension after the first.\"\"\"\n",
    "\n",
    "    # Store initial shape.\n",
    "    initial_shape = Y.shape\n",
    "\n",
    "    # Flatten after first dim.\n",
    "    Y = Y.reshape((initial_shape[0], -1))\n",
    "\n",
    "    # Interpolate along each slice.\n",
    "    for i in range(Y.shape[-1]):\n",
    "        y = Y[:, i]\n",
    "\n",
    "        # Build interpolant.\n",
    "        x = np.flatnonzero(~np.isnan(y))\n",
    "        f = interp1d(x, y[x], kind=kind, fill_value=np.nan, bounds_error=False)\n",
    "\n",
    "        # Fill missing\n",
    "        xq = np.flatnonzero(np.isnan(y))\n",
    "        y[xq] = f(xq)\n",
    "        \n",
    "        # Fill leading or trailing NaNs with the nearest non-NaN values\n",
    "        mask = np.isnan(y)\n",
    "        y[mask] = np.interp(np.flatnonzero(mask), np.flatnonzero(~mask), y[~mask])\n",
    "\n",
    "        # Save slice\n",
    "        Y[:, i] = y\n",
    "\n",
    "    # Restore to initial shape.\n",
    "    Y = Y.reshape(initial_shape)\n",
    "\n",
    "    return Y\n",
    "\n",
    "def smooth_diff(node_loc, deriv, win=25, poly=3):\n",
    "    \"\"\"\n",
    "    node_loc is a [frames, 2] array\n",
    "    \n",
    "    win defines the window to smooth over\n",
    "    \n",
    "    poly defines the order of the polynomial\n",
    "    to fit with\n",
    "    \n",
    "    \"\"\"\n",
    "    node_vel = np.zeros_like(node_loc)\n",
    "    for c in range(node_loc.shape[-1]):\n",
    "        node_vel[:, c] = savgol_filter(node_loc[:, c], win, poly, deriv)\n",
    "    if deriv != 0:\n",
    "        node_vel = np.linalg.norm(node_vel,axis=1)\n",
    "    return node_vel\n",
    "\n",
    "class sleap_vid():\n",
    "    \"\"\"\n",
    "    A class for sleap videos initiated by the filename (.h5 only) and the number of mice \n",
    "    you annotated. \n",
    "\n",
    "    Attributes:\n",
    "        name: str, path to an .h5 file \n",
    "        mice: number of mice in the experiment, also called tracks \n",
    "        locations: np.array, a multidimensional array of dimensions\n",
    "            (frames, nodes, 2 (x/y coordinates), track_no)\n",
    "        tracks: list of str, names of tracks assigned during sleap annotation\n",
    "        nodes: list of str, names of nodes assigned during sleap annotation\n",
    "        track_dict: dict, keys: str, names of tracks, values: int, dimension of location\n",
    "            associated with that track\n",
    "        node_dict: dict, keys: str, names of nodes, values: int, dimension of location \n",
    "            associated with that node\n",
    "                \n",
    "    Methods:\n",
    "        smooth_locations: smooths locations with a savtisky-golay filter\n",
    "        node_velocity: calculates and returns the velocity of a given node \n",
    "            for all tracks\n",
    "        distance_between_mice: calculates and returns distances between tracks\n",
    "            given a node\n",
    "        distances_between_nodes: calculates and returns distances between nodes within \n",
    "            one skeleton for all tracks\n",
    "        distances_to_point: calculates and returns distances between a point (x,y coordinates) \n",
    "            and a node for each track\n",
    "        node_angles: calculates and returns the angle between three nodes for each track\n",
    "        point_angles: calculates and returns the angle between a point and two nodes for\n",
    "            each track\n",
    "        orientation: calculates and returns the orientation of the two tracks to each other\n",
    "        create_events_array: TBD\n",
    "    \"\"\"\n",
    "\n",
    "    def __init__(self, filename, track_no):\n",
    "        \"\"\"\n",
    "        Initiates a sleap_vid class instance \n",
    "        Args (2)\n",
    "            filename: str, path to .h5 file \n",
    "            track_no: int, number of mice that you annotated for\n",
    "        \n",
    "        Returns: \n",
    "            a sleap_vid class instance \n",
    "        \"\"\"\n",
    "        self.name = filename\n",
    "        self.mice = track_no\n",
    "        self.__get_info__(filename)\n",
    "\n",
    "    def __get_info__(self, filename):\n",
    "        \"\"\"\n",
    "        Opens the .h5 file and reads in the relevant information: interpolates \n",
    "        missing location values using np.interp (code taken from sleap.ai)\n",
    "        saves locations as self.locations, saves track names as self.tracks,\n",
    "        saves node names as self.nodes, and creates a track_dict and a node_dict\n",
    "        to map string names to their relevant dimenions in locations\n",
    "        \"\"\"\n",
    "        with h5py.File(filename, \"r\") as f:\n",
    "            tracks= [n.decode() for n in f[\"track_names\"][:]]\n",
    "            locations = f[\"tracks\"][:].T\n",
    "            locations = locations[:,:,:,:self.mice]\n",
    "            self.locations = fill_missing(locations)\n",
    "            nodes = [n.decode() for n in f[\"node_names\"][:]]\n",
    "            self.tracks = tracks\n",
    "            self.nodes = nodes\n",
    "            self.track_dict = make_dict(tracks)\n",
    "            self.node_dict = make_dict(nodes)\n",
    "\n",
    "    def smooth_locations(self, win=25, poly=3):\n",
    "        \"\"\"\n",
    "        Smooths locations using a savitsky-golay filter (fxn from numpy, code from\n",
    "        sleap.ai) and reassigns self.locations to the smoothed locations\n",
    "\n",
    "        Args (0 required, 2 total):\n",
    "            win: int, length of filter window\n",
    "            poly: int, the order of the polynomial used to fit the samples\n",
    "\n",
    "        Returns:\n",
    "            none\n",
    "        \"\"\"\n",
    "        for node in self.node_dict.values():\n",
    "            for track in range(self.mice):\n",
    "                nodeloc = self.locations[:,node,:,track]\n",
    "                smoothed_node = smooth_diff(nodeloc, deriv=0, win=win, poly=poly)\n",
    "                self.locations[:,node,:,track] = smoothed_node\n",
    "        \n",
    "\n",
    "    def node_velocity(self, node, num_mice=2, win=25, poly=3, normalization_factor=None):\n",
    "        \"\"\"\n",
    "        takes in node and returns the velocity of that node \n",
    "        for each mouse\n",
    "\n",
    "        Args: \n",
    "            node: string, name of node\n",
    "        \n",
    "        Returns:\n",
    "            velocities: 2d np.array of floats (d = 2 x #of frames)\n",
    "                where each element is the velocity for that node\n",
    "                distances[0] = velocities for mouse2\n",
    "                distances[1] = velocities for mouse2\n",
    "        \"\"\"\n",
    "        if num_mice == 2:\n",
    "            node_loc1 = self.locations[:, self.node_dict[node], :, 0]\n",
    "            node_loc2 = self.locations[:, self.node_dict[node], :, 1]\n",
    "            if normalization_factor != None:\n",
    "                node_loc1 = node_loc1 * normalization_factor\n",
    "                node_loc2 = node_loc2 * normalization_factor\n",
    "            m1_vel = smooth_diff(node_loc1, deriv = 1, win=win, poly=poly)\n",
    "            m2_vel = smooth_diff(node_loc2, deriv = 1, win=win, poly=poly)\n",
    "            velocities = np.array([m1_vel,m2_vel])\n",
    "        else: \n",
    "            node_loc1 = self.locations[:, self.node_dict[node], :, 0]\n",
    "            if normalization_factor != None:\n",
    "                node_loc1 = node_loc1 * normalization_factor\n",
    "                node_loc2 = node_loc2 * normalization_factor\n",
    "            m1_vel = smooth_diff(node_loc1, deriv = 1, win=win, poly=poly)\n",
    "            velocities = np.array(m1_vel)\n",
    "        return velocities \n",
    "    \n",
    "   \n",
    "    def distances_between_mice(self, node, normalization_factor=None):\n",
    "        \"\"\"\n",
    "        takes in node name\n",
    "        returns a list of distances between the nodes of the two mice\n",
    "\n",
    "        Args:\n",
    "            node: string, name of node\n",
    "        Returns:\n",
    "            c_list: 1D np.array of floats (d = # of frames)\n",
    "        \"\"\"\n",
    "        locations = self.locations \n",
    "        node_index = self.node_dict[node]\n",
    "        x1 = locations[:,node_index,0,0]\n",
    "        y1 = locations[:,node_index,1,0]\n",
    "        # x , y coordinate of nose for mouse 1\n",
    "        x2 = locations[:,node_index,0,1]\n",
    "        y2 =  locations[:,node_index,1,1]\n",
    "        # x and y coordinate of nose of mouse 2\n",
    "        # solve for c using pythagroean theory\n",
    "        distances = np.sqrt(((x1 - x2)**2) + ((y1 - y2)**2))\n",
    "        if normalization_factor != None: \n",
    "            distances = distances * normalization_factor\n",
    "            distances = distances.T.flatten()\n",
    "        return distances\n",
    "    \n",
    "    def distances_between_nodes(self, node1, node2, normalization_factor = None):\n",
    "        \"\"\"\n",
    "        takes in two nodes and returns the distances between those nodes \n",
    "        for each mouse\n",
    "\n",
    "        Args: \n",
    "            node1: string, name of node 1\n",
    "            node2: string, name of node 2 \n",
    "        \n",
    "        Returns:\n",
    "            distances: 2d np.array of floats (d = 2 x #of frames)\n",
    "                where each element is the distance between node1 and node2 \n",
    "                distances[0] = distances for mouse1\n",
    "                distances[1] = distances for mouse2\n",
    "        \"\"\"\n",
    "        locations = self.locations\n",
    "        node_index1 = self.node_dict[node1]\n",
    "        node_index2 = self.node_dict[node2]\n",
    "        x1,y1 = locations[:, node_index1,0,0], locations[:,node_index1,1,0]\n",
    "        # x , y coordinate of node 1 for mouse 1\n",
    "        x2,y2 = locations[:,node_index2,0,0], locations[:,node_index2,1,0]\n",
    "        # x, y coordiantes of node 2 for mouse 1\n",
    "        x3, y3 = locations[:,node_index1,0,1], locations[:,node_index1,1,1]\n",
    "        # x and y coordinate of node 1 of mouse 2\n",
    "        x4, y4 = locations[:,node_index2,0,1], locations[:,node_index2,1,1]\n",
    "        # solve for c using pythagroean theory\n",
    "        c2 = np.sqrt(((x3 -x4)**2)+ ((y3 - y4)**2))\n",
    "        c1 = np.sqrt(((x1 - x2)**2) + ((y1 - y2)**2))\n",
    "        if normalization_factor != None:\n",
    "            c2 = (c2*normalization_factor).T.flatten()\n",
    "            c1 = (c1*normalization_factor).T.flatten()\n",
    "        distances = np.array[c1, c2]\n",
    "        return distances\n",
    "    \n",
    "    def distances_to_point(self, node, point, normalization_factor = None):\n",
    "        # CONFIRMED THAT IT WORKS in terms of doing the math by hand\n",
    "        \"\"\"\n",
    "        takes in two nodes and returns the distances between those nodes \n",
    "        for each mouse\n",
    "\n",
    "        Args: \n",
    "            node1: string, name of node 1\n",
    "            point: tuple or list of two floats,\n",
    "                x and y coordinate of desired point\n",
    "\n",
    "        Returns:\n",
    "            distances: 2d np.array of floats (d = 2 x #of frames)\n",
    "                where each element is the distance between node and point \n",
    "                distances[0] = distances for mouse1\n",
    "                distances[1] = distances for mouse2\n",
    "        \"\"\"\n",
    "        locations = self.locations\n",
    "        node_index = self.node_dict[node]\n",
    "        px, py = point[0], point[1]\n",
    "        x1,y1 = locations[:, node_index,0,0], locations[:,node_index,1,0]\n",
    "        # x , y coordinate of node 1 for mouse 1\n",
    "        # x, y coordiantes of node 2 for mouse 1\n",
    "        x3, y3 = locations[:,node_index,0,1], locations[:,node_index,1,1]\n",
    "        # x and y coordinate of node 1 of mouse 2\n",
    "        px = np.full_like(x1, fill_value=px)\n",
    "        py = np.full_like(y1, fill_value=py)\n",
    "        # solve for c using pythagroean theory\n",
    "        c2 = np.sqrt(((x3 -px)**2)+ ((y3 - py)**2))\n",
    "        c1 = np.sqrt(((x1 - px)**2) + ((y1 - py)**2))\n",
    "        if normalization_factor != None:\n",
    "            c2 = (c2*normalization_factor).T.flatten()\n",
    "            c1 = (c1*normalization_factor).T.flatten()\n",
    "        distances = np.array([c1, c2])\n",
    "        return distances\n",
    "\n",
    "\n",
    "    def node_angles(self, node1, node2, node3):\n",
    "        \"\"\"\n",
    "        takes in locations and three nodes, calculates angle between the three points \n",
    "        with the second node being the center point\n",
    "        \n",
    "        Args:  \n",
    "            node1: string, name of node 1\n",
    "            node2: string, name of node 2 \n",
    "            node3: string, name of node 3\n",
    "\n",
    "        Returns:\n",
    "            ang: 2d np. array (d = 2 x # of frames)\n",
    "                where each element is the angle between \n",
    "                node1 and node3 with node2 as center point \n",
    "                anles_all_mice[0] = angles for mouse1\n",
    "                anles_all_mice[1] = angles for mouse2\n",
    "        \"\"\"\n",
    "        locations = self.locations  \n",
    "        node_index_1 = self.node_dict[node1]\n",
    "        node_index_2 = self.node_dict[node2]\n",
    "        node_index_3 = self.node_dict[node3]\n",
    "        ax = locations[:,node_index_1, 0, :]\n",
    "        ay = locations[:,node_index_1, 1, :]\n",
    "        bx = locations[:,node_index_2, 0, :]\n",
    "        by = locations[:,node_index_2, 1, :]\n",
    "        cx = locations[:,node_index_3,0,:]\n",
    "        cy = locations[:,node_index_3, 1, :]\n",
    "        ang = np.arctan2(cy-by, cx-bx) - np.arctan2(ay-by, ax-bx) \n",
    "        ang_swapped = np.arctan2(cy-by, cx-bx) - np.arctan2(cy-by, cx-bx) \n",
    "        ang = np.maximum(ang, ang_swapped)\n",
    "        return ang.T\n",
    "    \n",
    "    def point_angles(self, node1, node2, point):\n",
    "        \"\"\"\n",
    "        takes in locations and three nodes, calculates angle between the three points \n",
    "        with the second node being the center point\n",
    "        \n",
    "        Args:  \n",
    "            node1: string, name of node 1\n",
    "            node2: string, name of node 2 \n",
    "            point: tuple or list of two floats,\n",
    "                x and y coordinate of desired point\n",
    "\n",
    "        Returns:\n",
    "            ang: 2d np. array (d = 2 x # of frames)\n",
    "                where each element is the angle between \n",
    "                node1 and point with node2 as center point \n",
    "                anles_all_mice[0] = angles for mouse1\n",
    "                anles_all_mice[1] = angles for mouse2\n",
    "        \"\"\"\n",
    "        locations = self.locations  \n",
    "        node_index_1 = self.node_dict[node1]\n",
    "        node_index_2 = self.node_dict[node2]\n",
    "        px, py = point[0], point[1]\n",
    "        ax = locations[:,node_index_1, 0, :]\n",
    "        ay = locations[:,node_index_1, 1, :]\n",
    "        bx = locations[:,node_index_2, 0, :]\n",
    "        by = locations[:,node_index_2, 1, :]\n",
    "        px = np.full_like(ax, fill_value=px)\n",
    "        py = np.full_like(ay, fill_value=py)\n",
    "        ang = np.arctan2(py-by, px-bx) - np.arctan2(ay-by, ax-bx) \n",
    "        ang_swapped = np.arctan2(ay-by, ax-bx) - np.arctan2(py-by, px-bx) \n",
    "        ang = np.maximum(ang, ang_swapped)\n",
    "        return ang.T\n",
    "\n",
    "    def orientation(self):\n",
    "        \"\"\"\n",
    "        Takes in locations and nose and thorax node index to calculate the angle of orientation\n",
    "        between mice where two mice facing each other results in pi\n",
    "        theta = 0 means they are not facing each other \n",
    "        \n",
    "        \"\"\"\n",
    "        locations = self.locations\n",
    "        nose_node = self.node_dict['nose']\n",
    "        thorax_node = self.node_dict['thorax']\n",
    "        forehead = self.node_dict['forehead']\n",
    "        ax = locations[:, nose_node, 0, 0]\n",
    "        ay = locations[:, nose_node, 1, 0]\n",
    "        bx = locations[:,thorax_node, 0, 0]\n",
    "        by = locations[:,thorax_node, 1, 0]\n",
    "        cx = locations[:, forehead, 0, 1]\n",
    "        cy = locations[:,forehead, 1, 1]\n",
    "        ang_m1 = np.arctan2(cy-by, cx-bx) - np.arctan2(ay-by, ax-bx) \n",
    "        ang_m1_swapped = np.arctan2(ay-by, ax-bx) - np.arctan2(cy-by, cx-bx)\n",
    "        ax = locations[:, nose_node, 0, 1]\n",
    "        ay = locations[:, nose_node, 1, 1]\n",
    "        bx = locations[:,thorax_node, 0, 1]\n",
    "        by = locations[:,thorax_node, 1, 1]\n",
    "        cx = locations[:, forehead, 0, 0]\n",
    "        cy = locations[:,forehead, 1, 0]\n",
    "        ang_m2 = np.arctan2(cy-by, cx-bx) - np.arctan2(ay-by, ax-bx) \n",
    "        ang_m2_swapped = np.arctan2(ay-by, ax-bx) - np.arctan2(cy-by, cx-bx) \n",
    "        ang_m1 = np.maximum(ang_m1,ang_m1_swapped)\n",
    "        ang_m2 = np.maximum(ang_m2,ang_m2_swapped)\n",
    "        return np.array([ang_m1, ang_m2])\n",
    "    \n",
    "    def create_events_array(thresh, feature, greater_than = False, frame_rate = 30):\n",
    "        \"\"\"\n",
    "        This function will create a 2D array of start and stop times (ms) for which \n",
    "        a given feature passes a given threshold. The output is an array of two\n",
    "        element arrays, where the first value is the start time and the second \n",
    "        value is the stop time. \n",
    "\n",
    "        Args (4 total, 2 required):\n",
    "            thresh: float, threshold value to filter frames\n",
    "            feature: 1D numpy array, values of some feature for each frame\n",
    "            greater_than: Bool, default = False, True if finding frames where feature >= thresh, False for <=\n",
    "            frame-rate: int, default = 30 fps, frame rate in frames per second\n",
    "\n",
    "        Return (1):\n",
    "            output: 2D numpy array, Pairs of start and stop frames for which the value of the feature agrees with your filter    \n",
    "        \"\"\"\n",
    "\n",
    "        #{feature_name: [x,y]} x -> greater than y -> less than \n",
    "        if greater_than:\n",
    "            ind1 = feature.index[feature >= thresh].tolist()\n",
    "        else:\n",
    "            ind1 = feature.index[feature <= thresh].tolist()\n",
    "        start = []\n",
    "        start.append(ind1[0])\n",
    "\n",
    "        end = []\n",
    "\n",
    "        for i in range(len(ind1)-1):\n",
    "            if (ind1[i]-ind1[i-1])>3:\n",
    "                start.append(ind1[i])\n",
    "            \n",
    "            if (ind1[i+1]-ind1[i])>3:\n",
    "                end.append(ind1[i])\n",
    "\n",
    "        end.append(ind1[-1])\n",
    "\n",
    "        output = np.column_stack((start/frame_rate*1000, end/frame_rate*1000))\n",
    "        return output"
   ]
  },
  {
   "cell_type": "code",
   "execution_count": 633,
   "metadata": {},
   "outputs": [],
   "source": [
    "def stamp_to_sec(stamp):\n",
    "    \"\"\"\n",
    "    stamp is time stamp in video, str, in form 'minutes:seconds'\n",
    "    returns seconds in int\n",
    "    \"\"\" \n",
    "    temp = stamp.split(\":\")\n",
    "    minutes = int(temp[0])\n",
    "    seconds = int(temp[1])\n",
    "    s = seconds + (minutes*60)\n",
    "    return s"
   ]
  },
  {
   "cell_type": "code",
   "execution_count": 634,
   "metadata": {},
   "outputs": [],
   "source": [
    "def sec_to_frame(sec, fps=30):\n",
    "    '''\n",
    "    sec is seconds; int\n",
    "    fps is frames per second; int\n",
    "\n",
    "    returns last frame that this second includes; int\n",
    "    '''\n",
    "    frame = sec*fps\n",
    "    return frame"
   ]
  },
  {
   "cell_type": "code",
   "execution_count": 635,
   "metadata": {},
   "outputs": [],
   "source": [
    "def stamp_to_frame(stamp, fps=30):\n",
    "    \"\"\"\n",
    "    stamp is 'minutes:seconds'; str\n",
    "    fps int\n",
    "\n",
    "    returns last frame included in that time stamp for a video of fps; int\n",
    "    \"\"\"\n",
    "    s = stamp_to_sec(stamp)\n",
    "    return sec_to_frame(s,fps)"
   ]
  },
  {
   "cell_type": "code",
   "execution_count": 636,
   "metadata": {},
   "outputs": [],
   "source": [
    "def stamprange_to_frame(stamp_range, fps=30):\n",
    "    \"\"\" \n",
    "    stamp_range is a time stamp range in form \"minutes:seconds-minutes:seconds\"; str\n",
    "    fps is fps of recording; int\n",
    "\n",
    "    returns range of frames in list [start frame,end frame]; two element list with integer values\n",
    "    \"\"\"\n",
    "    temp = stamp_range.split(\"-\")\n",
    "    f1 = stamp_to_frame(temp[0],fps)\n",
    "    f2 = stamp_to_frame(temp[1],fps)\n",
    "    range = [f1,f2]\n",
    "    return range"
   ]
  },
  {
   "cell_type": "code",
   "execution_count": 637,
   "metadata": {},
   "outputs": [],
   "source": [
    "def get_vel_for_sa(exdict, social_agent, velocities, fps=30, stamp_str=True):\n",
    "    \"\"\" \n",
    "    exdict is the dictionary extracted from the excel file with experimental details; dict (nested)\n",
    "    social_agent is the social agent in interaction as listed in excel sheet; str\n",
    "    velocities is dictionary of velocities from h5 files with 'file':array of velocities; dict\n",
    "    fps is the frames per second of the recording; int\n",
    "    stamp_str tels whether the time stamps given in the dictionaries are single string (True) or arrays (False); boolean\n",
    "\n",
    "    returns all velocites of subject during bouts with the given social agent; numpy array\n",
    "    \"\"\"\n",
    "    if stamp_str:\n",
    "        stamps_dict = exdict[social_agent]\n",
    "        vel_arr = []\n",
    "        for x in stamps_dict:\n",
    "            try:\n",
    "                if stamps_dict[x] == 'empty':\n",
    "                    temp_range = np.arange(108000,108001,1)\n",
    "                else:\n",
    "                    temp_frames = stamprange_to_frame(str(stamps_dict[x]),fps)\n",
    "                    temp_range = np.arange(temp_frames[0],temp_frames[1],1)\n",
    "            except:\n",
    "                print(\"Time stamp format error: \" + str(stamps_dict[x]))\n",
    "                break\n",
    "            try:\n",
    "                temp_vel = velocities[x]\n",
    "            except:\n",
    "                print(\"video name error: \" + x)\n",
    "                break\n",
    "            for i in temp_range:\n",
    "                try:\n",
    "                    #print(temp_vel[i])\n",
    "                    vel_arr.append(temp_vel[i])    \n",
    "                except:\n",
    "                    pass\n",
    "    else:\n",
    "        stamps_dict = exdict[social_agent]\n",
    "        vel_arr = []\n",
    "        \n",
    "        for x in stamps_dict:\n",
    "            try:\n",
    "                temp_vel = velocities[x]\n",
    "            except:\n",
    "                print(\"video name error: \" + x)\n",
    "                break\n",
    "            for i in stamps_dict[x]:\n",
    "                try:\n",
    "                    #print(temp_vel[i])\n",
    "                    vel_arr.append(temp_vel[i])    \n",
    "                except:\n",
    "                    pass\n",
    "\n",
    "    \n",
    "    return np.array(vel_arr)"
   ]
  },
  {
   "cell_type": "code",
   "execution_count": 638,
   "metadata": {},
   "outputs": [],
   "source": [
    "def get_avg_vel(exdict, social_agent, velocities, fps=30, stamp_str=True):\n",
    "    \"\"\" \n",
    "    exdict is the dictionary extracted from the excel file with experimental details; dict (nested)\n",
    "    social_agent is the social agent in interaction as listed in excel sheet; str\n",
    "    velocities is dictionary of velocities from h5 files with 'file':array of velocities; dict\n",
    "    fps is the frames per second of the recording; int\n",
    "    stamp_str tels whether the time stamps given in the dictionaries are single string (True) or arrays (False); boolean\n",
    "\n",
    "    returns avg velocites for each bout with given social agent; np array\n",
    "    \"\"\"\n",
    "    if stamp_str:\n",
    "        stamps_dict = exdict[social_agent]\n",
    "        vel_arr = []\n",
    "        for x in stamps_dict:\n",
    "            temp_arr = []\n",
    "            try:\n",
    "                if stamps_dict[x] == 'empty':\n",
    "                    temp_range = np.arange(108000,108001,1)\n",
    "                else:\n",
    "                    temp_frames = stamprange_to_frame(str(stamps_dict[x]),fps)\n",
    "                    temp_range = np.arange(temp_frames[0],temp_frames[1],1)\n",
    "            except:\n",
    "                print(\"Time stamp format error: \" + str(stamps_dict[x]))\n",
    "                break\n",
    "            try:\n",
    "                temp_vel = velocities[x]\n",
    "            except:\n",
    "                print(\"video name error: \" + x)\n",
    "                break\n",
    "            for i in temp_range:\n",
    "                try:\n",
    "                    #print(temp_vel[i])\n",
    "                    temp_arr.append(temp_vel[i])    \n",
    "\n",
    "                except:\n",
    "                    pass\n",
    "            vel_arr.append(np.mean(np.array(temp_arr)))\n",
    "    else:\n",
    "        stamps_dict = exdict[social_agent]\n",
    "        vel_arr = []\n",
    "        \n",
    "        for x in stamps_dict:\n",
    "            temp_arr = [] \n",
    "            try:\n",
    "                temp_vel = velocities[x]\n",
    "            except:\n",
    "                print(\"video name error: \" + x)\n",
    "                break\n",
    "            for i in temp_range:\n",
    "                try:\n",
    "                    #print(temp_vel[i])\n",
    "                    temp_arr.append(temp_vel[i])    \n",
    "                except:\n",
    "                    pass\n",
    "            vel_arr.append(np.mean(np.array(temp_arr)))\n",
    "        \n",
    "    return np.array(vel_arr)"
   ]
  },
  {
   "cell_type": "code",
   "execution_count": 639,
   "metadata": {},
   "outputs": [],
   "source": [
    "video_df = pd.read_excel('ephys_socialmem_vidinfo.xlsx','Phase 2')"
   ]
  },
  {
   "cell_type": "code",
   "execution_count": 640,
   "metadata": {},
   "outputs": [
    {
     "data": {
      "text/html": [
       "<div>\n",
       "<style scoped>\n",
       "    .dataframe tbody tr th:only-of-type {\n",
       "        vertical-align: middle;\n",
       "    }\n",
       "\n",
       "    .dataframe tbody tr th {\n",
       "        vertical-align: top;\n",
       "    }\n",
       "\n",
       "    .dataframe thead th {\n",
       "        text-align: right;\n",
       "    }\n",
       "</style>\n",
       "<table border=\"1\" class=\"dataframe\">\n",
       "  <thead>\n",
       "    <tr style=\"text-align: right;\">\n",
       "      <th></th>\n",
       "      <th>Name of Recording</th>\n",
       "      <th>subject</th>\n",
       "      <th>Familiarization Trial</th>\n",
       "      <th>Mouse taken out</th>\n",
       "      <th>ITI</th>\n",
       "      <th>Social Type 1</th>\n",
       "      <th>Mouse put in</th>\n",
       "      <th>Social 1</th>\n",
       "      <th>Social Type 2</th>\n",
       "      <th>Mouse taken out/put in</th>\n",
       "      <th>Social 2</th>\n",
       "      <th>Social Type 3</th>\n",
       "      <th>Social 3</th>\n",
       "    </tr>\n",
       "  </thead>\n",
       "  <tbody>\n",
       "    <tr>\n",
       "      <th>0</th>\n",
       "      <td>20230803_101331_1.1converted.analysis.h5</td>\n",
       "      <td>1.1</td>\n",
       "      <td>0:06-9:59</td>\n",
       "      <td>9:59-10:03</td>\n",
       "      <td>10:03-13:41</td>\n",
       "      <td>Familiar</td>\n",
       "      <td>NaN</td>\n",
       "      <td>NaN</td>\n",
       "      <td>NaN</td>\n",
       "      <td>NaN</td>\n",
       "      <td>NaN</td>\n",
       "      <td>NaN</td>\n",
       "      <td>NaN</td>\n",
       "    </tr>\n",
       "    <tr>\n",
       "      <th>1</th>\n",
       "      <td>20230803 101331 1.2_converted.analysis.h5</td>\n",
       "      <td>1.1</td>\n",
       "      <td>NaN</td>\n",
       "      <td>NaN</td>\n",
       "      <td>0:00-6:14</td>\n",
       "      <td>Familiar</td>\n",
       "      <td>6:14-6:17</td>\n",
       "      <td>6:17-11:11</td>\n",
       "      <td>Cagemate</td>\n",
       "      <td>11:11-11:17</td>\n",
       "      <td>11:17-16:10</td>\n",
       "      <td>Novel</td>\n",
       "      <td>16:16-60:00</td>\n",
       "    </tr>\n",
       "    <tr>\n",
       "      <th>2</th>\n",
       "      <td>20230803 121318 1.1_converted.analysis.h5</td>\n",
       "      <td>1.4</td>\n",
       "      <td>0:05-9:59</td>\n",
       "      <td>9:59-10:04</td>\n",
       "      <td>10:04-17:01</td>\n",
       "      <td>NaN</td>\n",
       "      <td>NaN</td>\n",
       "      <td>NaN</td>\n",
       "      <td>NaN</td>\n",
       "      <td>NaN</td>\n",
       "      <td>NaN</td>\n",
       "      <td>NaN</td>\n",
       "      <td>NaN</td>\n",
       "    </tr>\n",
       "    <tr>\n",
       "      <th>3</th>\n",
       "      <td>20230803_121318_1.2_corrected.analysis.h5</td>\n",
       "      <td>1.4</td>\n",
       "      <td>NaN</td>\n",
       "      <td>NaN</td>\n",
       "      <td>0:00-0:50</td>\n",
       "      <td>Novel</td>\n",
       "      <td>0:50-0:53</td>\n",
       "      <td>0:53-5:47</td>\n",
       "      <td>Familiar</td>\n",
       "      <td>5:47-5:54</td>\n",
       "      <td>5:54-10:50</td>\n",
       "      <td>Cagemate</td>\n",
       "      <td>10:56-60:00</td>\n",
       "    </tr>\n",
       "    <tr>\n",
       "      <th>4</th>\n",
       "      <td>20230804_141009_1.1_converted.analysis.h5</td>\n",
       "      <td>1.2</td>\n",
       "      <td>0:08-10:00</td>\n",
       "      <td>10:00-10:06</td>\n",
       "      <td>10:06-19:59</td>\n",
       "      <td>Novel</td>\n",
       "      <td>20:00-20:02</td>\n",
       "      <td>20:02-25:00</td>\n",
       "      <td>Familiar</td>\n",
       "      <td>25:00-25:08</td>\n",
       "      <td>25:08-30:00</td>\n",
       "      <td>Cagemate</td>\n",
       "      <td>30:06-60:00</td>\n",
       "    </tr>\n",
       "  </tbody>\n",
       "</table>\n",
       "</div>"
      ],
      "text/plain": [
       "                           Name of Recording  subject Familiarization Trial  \\\n",
       "0   20230803_101331_1.1converted.analysis.h5      1.1             0:06-9:59   \n",
       "1  20230803 101331 1.2_converted.analysis.h5      1.1                   NaN   \n",
       "2  20230803 121318 1.1_converted.analysis.h5      1.4             0:05-9:59   \n",
       "3  20230803_121318_1.2_corrected.analysis.h5      1.4                   NaN   \n",
       "4  20230804_141009_1.1_converted.analysis.h5      1.2            0:08-10:00   \n",
       "\n",
       "  Mouse taken out          ITI Social Type 1 Mouse put in     Social 1  \\\n",
       "0      9:59-10:03  10:03-13:41      Familiar          NaN          NaN   \n",
       "1             NaN    0:00-6:14      Familiar    6:14-6:17   6:17-11:11   \n",
       "2      9:59-10:04  10:04-17:01           NaN          NaN          NaN   \n",
       "3             NaN    0:00-0:50         Novel    0:50-0:53    0:53-5:47   \n",
       "4     10:00-10:06  10:06-19:59         Novel  20:00-20:02  20:02-25:00   \n",
       "\n",
       "  Social Type 2 Mouse taken out/put in     Social 2 Social Type 3     Social 3  \n",
       "0           NaN                    NaN          NaN           NaN          NaN  \n",
       "1      Cagemate            11:11-11:17  11:17-16:10         Novel  16:16-60:00  \n",
       "2           NaN                    NaN          NaN           NaN          NaN  \n",
       "3      Familiar              5:47-5:54   5:54-10:50      Cagemate  10:56-60:00  \n",
       "4      Familiar            25:00-25:08  25:08-30:00      Cagemate  30:06-60:00  "
      ]
     },
     "execution_count": 640,
     "metadata": {},
     "output_type": "execute_result"
    }
   ],
   "source": [
    "video_df.head()"
   ]
  },
  {
   "cell_type": "code",
   "execution_count": 641,
   "metadata": {},
   "outputs": [],
   "source": [
    "video_df['Name of Recording']=video_df['Name of Recording'].apply(lambda x: 'h5_files/'+ x)\n",
    "video_df=video_df.fillna(\"empty\")"
   ]
  },
  {
   "cell_type": "code",
   "execution_count": 642,
   "metadata": {},
   "outputs": [],
   "source": [
    "social_agents = set(video_df['Social Type 1'])"
   ]
  },
  {
   "cell_type": "code",
   "execution_count": 643,
   "metadata": {},
   "outputs": [],
   "source": [
    "exdict = {}\n",
    "exdict[\"ITI\"] = {}\n",
    "for x in social_agents:\n",
    "    exdict[x]={}\n",
    "    "
   ]
  },
  {
   "cell_type": "code",
   "execution_count": 644,
   "metadata": {},
   "outputs": [],
   "source": [
    "for index, row in video_df.iterrows():\n",
    "    exdict[row['Social Type 1']][row['Name of Recording']]=row['Social 1']\n",
    "    exdict[row['Social Type 2']][row['Name of Recording']]=row['Social 2']\n",
    "    exdict[row['Social Type 3']][row['Name of Recording']]=row['Social 3']\n",
    "    exdict[\"ITI\"][row[\"Name of Recording\"]]=row['ITI']\n",
    "    "
   ]
  },
  {
   "cell_type": "code",
   "execution_count": 645,
   "metadata": {},
   "outputs": [
    {
     "data": {
      "text/plain": [
       "{'ITI': {'h5_files/20230803_101331_1.1converted.analysis.h5': '10:03-13:41',\n",
       "  'h5_files/20230803 101331 1.2_converted.analysis.h5': '0:00-6:14',\n",
       "  'h5_files/20230803 121318 1.1_converted.analysis.h5': '10:04-17:01',\n",
       "  'h5_files/20230803_121318_1.2_corrected.analysis.h5': '0:00-0:50',\n",
       "  'h5_files/20230804_141009_1.1_converted.analysis.h5': '10:06-19:59',\n",
       "  'h5_files/20230817 113746 1.1_converted.analysis.h5': '10:04-20:00',\n",
       "  'h5_files/20230818 115728 1.1_converted.analysis.h5': 'empty',\n",
       "  'h5_files/20230818 115728 1.2_converted.analysis.h5': '8:53-19:07',\n",
       "  'h5_files/20230803 141047 1.1_converted.analysis.h5': '10:05-20:00',\n",
       "  'h5_files/20230804_121600_1.1_converted.analysis.h5': '10:07-20:03',\n",
       "  'h5_files/20230818 133620 1.1_converted.analysis.h5': '10:05-19:58',\n",
       "  'h5_files/20230817_100823_1.1_converted.analysis.h5': '10:33-20:26'},\n",
       " 'Cagemate': {'h5_files/20230803 101331 1.2_converted.analysis.h5': '11:17-16:10',\n",
       "  'h5_files/20230803_121318_1.2_corrected.analysis.h5': '10:56-60:00',\n",
       "  'h5_files/20230804_141009_1.1_converted.analysis.h5': '30:06-60:00',\n",
       "  'h5_files/20230817 113746 1.1_converted.analysis.h5': '25:06-30:11',\n",
       "  'h5_files/20230818 115728 1.2_converted.analysis.h5': '29:22-60:00',\n",
       "  'h5_files/20230803 141047 1.1_converted.analysis.h5': '20:03-25:00',\n",
       "  'h5_files/20230804_121600_1.1_converted.analysis.h5': '25:05-29:59',\n",
       "  'h5_files/20230818 133620 1.1_converted.analysis.h5': '20:02-24:57',\n",
       "  'h5_files/20230817_100823_1.1_converted.analysis.h5': '20:28-25:26'},\n",
       " 'Novel': {'h5_files/20230803 101331 1.2_converted.analysis.h5': '16:16-60:00',\n",
       "  'h5_files/20230803_121318_1.2_corrected.analysis.h5': '0:53-5:47',\n",
       "  'h5_files/20230804_141009_1.1_converted.analysis.h5': '20:02-25:00',\n",
       "  'h5_files/20230817 113746 1.1_converted.analysis.h5': '30:17-60:00',\n",
       "  'h5_files/20230818 115728 1.2_converted.analysis.h5': '19:11-24:06',\n",
       "  'h5_files/20230803 141047 1.1_converted.analysis.h5': '25:06-30:00',\n",
       "  'h5_files/20230804_121600_1.1_converted.analysis.h5': '30:07-60:00',\n",
       "  'h5_files/20230818 133620 1.1_converted.analysis.h5': '25:03-30:00',\n",
       "  'h5_files/20230817_100823_1.1_converted.analysis.h5': '25:31-30:28'},\n",
       " 'empty': {'h5_files/20230803_101331_1.1converted.analysis.h5': 'empty',\n",
       "  'h5_files/20230803 121318 1.1_converted.analysis.h5': 'empty',\n",
       "  'h5_files/20230818 115728 1.1_converted.analysis.h5': 'empty'},\n",
       " 'Familiar': {'h5_files/20230803_101331_1.1converted.analysis.h5': 'empty',\n",
       "  'h5_files/20230803 101331 1.2_converted.analysis.h5': '6:17-11:11',\n",
       "  'h5_files/20230803_121318_1.2_corrected.analysis.h5': '5:54-10:50',\n",
       "  'h5_files/20230804_141009_1.1_converted.analysis.h5': '25:08-30:00',\n",
       "  'h5_files/20230817 113746 1.1_converted.analysis.h5': '20:03-24:59',\n",
       "  'h5_files/20230818 115728 1.2_converted.analysis.h5': '24:14-29:14',\n",
       "  'h5_files/20230803 141047 1.1_converted.analysis.h5': '30:06-60:00',\n",
       "  'h5_files/20230804_121600_1.1_converted.analysis.h5': '20:06-24:59',\n",
       "  'h5_files/20230818 133620 1.1_converted.analysis.h5': '30:06-60:00',\n",
       "  'h5_files/20230817_100823_1.1_converted.analysis.h5': '30:28-60:00'}}"
      ]
     },
     "execution_count": 645,
     "metadata": {},
     "output_type": "execute_result"
    }
   ],
   "source": [
    "exdict"
   ]
  },
  {
   "cell_type": "code",
   "execution_count": 646,
   "metadata": {},
   "outputs": [],
   "source": [
    "exdict[\"ITI\"]={key:val for key, val in exdict[\"ITI\"].items() if val != \"empty\"}\n",
    "for x in social_agents:\n",
    "    exdict[x]={key:val for key, val in exdict[x].items() if val != 'empty'}"
   ]
  },
  {
   "cell_type": "code",
   "execution_count": 647,
   "metadata": {},
   "outputs": [
    {
     "data": {
      "text/plain": [
       "{'ITI': {'h5_files/20230803_101331_1.1converted.analysis.h5': '10:03-13:41',\n",
       "  'h5_files/20230803 101331 1.2_converted.analysis.h5': '0:00-6:14',\n",
       "  'h5_files/20230803 121318 1.1_converted.analysis.h5': '10:04-17:01',\n",
       "  'h5_files/20230803_121318_1.2_corrected.analysis.h5': '0:00-0:50',\n",
       "  'h5_files/20230804_141009_1.1_converted.analysis.h5': '10:06-19:59',\n",
       "  'h5_files/20230817 113746 1.1_converted.analysis.h5': '10:04-20:00',\n",
       "  'h5_files/20230818 115728 1.2_converted.analysis.h5': '8:53-19:07',\n",
       "  'h5_files/20230803 141047 1.1_converted.analysis.h5': '10:05-20:00',\n",
       "  'h5_files/20230804_121600_1.1_converted.analysis.h5': '10:07-20:03',\n",
       "  'h5_files/20230818 133620 1.1_converted.analysis.h5': '10:05-19:58',\n",
       "  'h5_files/20230817_100823_1.1_converted.analysis.h5': '10:33-20:26'},\n",
       " 'Cagemate': {'h5_files/20230803 101331 1.2_converted.analysis.h5': '11:17-16:10',\n",
       "  'h5_files/20230803_121318_1.2_corrected.analysis.h5': '10:56-60:00',\n",
       "  'h5_files/20230804_141009_1.1_converted.analysis.h5': '30:06-60:00',\n",
       "  'h5_files/20230817 113746 1.1_converted.analysis.h5': '25:06-30:11',\n",
       "  'h5_files/20230818 115728 1.2_converted.analysis.h5': '29:22-60:00',\n",
       "  'h5_files/20230803 141047 1.1_converted.analysis.h5': '20:03-25:00',\n",
       "  'h5_files/20230804_121600_1.1_converted.analysis.h5': '25:05-29:59',\n",
       "  'h5_files/20230818 133620 1.1_converted.analysis.h5': '20:02-24:57',\n",
       "  'h5_files/20230817_100823_1.1_converted.analysis.h5': '20:28-25:26'},\n",
       " 'Novel': {'h5_files/20230803 101331 1.2_converted.analysis.h5': '16:16-60:00',\n",
       "  'h5_files/20230803_121318_1.2_corrected.analysis.h5': '0:53-5:47',\n",
       "  'h5_files/20230804_141009_1.1_converted.analysis.h5': '20:02-25:00',\n",
       "  'h5_files/20230817 113746 1.1_converted.analysis.h5': '30:17-60:00',\n",
       "  'h5_files/20230818 115728 1.2_converted.analysis.h5': '19:11-24:06',\n",
       "  'h5_files/20230803 141047 1.1_converted.analysis.h5': '25:06-30:00',\n",
       "  'h5_files/20230804_121600_1.1_converted.analysis.h5': '30:07-60:00',\n",
       "  'h5_files/20230818 133620 1.1_converted.analysis.h5': '25:03-30:00',\n",
       "  'h5_files/20230817_100823_1.1_converted.analysis.h5': '25:31-30:28'},\n",
       " 'empty': {},\n",
       " 'Familiar': {'h5_files/20230803 101331 1.2_converted.analysis.h5': '6:17-11:11',\n",
       "  'h5_files/20230803_121318_1.2_corrected.analysis.h5': '5:54-10:50',\n",
       "  'h5_files/20230804_141009_1.1_converted.analysis.h5': '25:08-30:00',\n",
       "  'h5_files/20230817 113746 1.1_converted.analysis.h5': '20:03-24:59',\n",
       "  'h5_files/20230818 115728 1.2_converted.analysis.h5': '24:14-29:14',\n",
       "  'h5_files/20230803 141047 1.1_converted.analysis.h5': '30:06-60:00',\n",
       "  'h5_files/20230804_121600_1.1_converted.analysis.h5': '20:06-24:59',\n",
       "  'h5_files/20230818 133620 1.1_converted.analysis.h5': '30:06-60:00',\n",
       "  'h5_files/20230817_100823_1.1_converted.analysis.h5': '30:28-60:00'}}"
      ]
     },
     "execution_count": 647,
     "metadata": {},
     "output_type": "execute_result"
    }
   ],
   "source": [
    "exdict"
   ]
  },
  {
   "cell_type": "markdown",
   "metadata": {},
   "source": [
    "Now to velocites dict:"
   ]
  },
  {
   "cell_type": "code",
   "execution_count": 648,
   "metadata": {},
   "outputs": [
    {
     "name": "stdout",
     "output_type": "stream",
     "text": [
      "['20230803 101331 1.2_converted.analysis.h5', '20230803 121318 1.1_converted.analysis.h5', '20230803 141047 1.1_converted.analysis.h5', '20230803_101331_1.1converted.analysis.h5', '20230803_121318_1.2_corrected.analysis.h5', '20230804_121600_1.1_converted.analysis.h5', '20230804_141009_1.1_converted.analysis.h5', '20230817 113746 1.1_converted.analysis.h5', '20230817_100823_1.1_converted.analysis.h5', '20230818 115728 1.1_converted.analysis.h5', '20230818 115728 1.2_converted.analysis.h5', '20230818 133620 1.1_converted.analysis.h5']\n"
     ]
    }
   ],
   "source": [
    "filenames = os.listdir('h5_files/')\n",
    "print(filenames)\n"
   ]
  },
  {
   "cell_type": "code",
   "execution_count": 649,
   "metadata": {},
   "outputs": [
    {
     "name": "stdout",
     "output_type": "stream",
     "text": [
      "h5_files/20230803 101331 1.2_converted.analysis.h5\n",
      "h5_files/20230803 121318 1.1_converted.analysis.h5\n",
      "h5_files/20230803 141047 1.1_converted.analysis.h5\n",
      "h5_files/20230803_101331_1.1converted.analysis.h5\n",
      "h5_files/20230803_121318_1.2_corrected.analysis.h5\n",
      "h5_files/20230804_121600_1.1_converted.analysis.h5\n",
      "h5_files/20230804_141009_1.1_converted.analysis.h5\n",
      "h5_files/20230817 113746 1.1_converted.analysis.h5\n",
      "h5_files/20230817_100823_1.1_converted.analysis.h5\n",
      "h5_files/20230818 115728 1.1_converted.analysis.h5\n",
      "h5_files/20230818 115728 1.2_converted.analysis.h5\n",
      "h5_files/20230818 133620 1.1_converted.analysis.h5\n"
     ]
    }
   ],
   "source": [
    "h5_list = []\n",
    "for x in filenames:\n",
    "    print('h5_files/'+x)\n",
    "    h5_list.append(sleap_vid('h5_files/'+ x,2))"
   ]
  },
  {
   "cell_type": "code",
   "execution_count": 650,
   "metadata": {},
   "outputs": [
    {
     "name": "stdout",
     "output_type": "stream",
     "text": [
      "h5_files/20230818 133620 1.1_converted.analysis.h5\n"
     ]
    }
   ],
   "source": [
    "num_h5=len(h5_list)\n",
    "print(h5_list[num_h5-1].name)"
   ]
  },
  {
   "cell_type": "code",
   "execution_count": 651,
   "metadata": {},
   "outputs": [],
   "source": [
    "thor = 'thorax'\n"
   ]
  },
  {
   "cell_type": "code",
   "execution_count": 652,
   "metadata": {},
   "outputs": [],
   "source": [
    "subj_velocities = {}\n",
    "agent_velocities = {}\n",
    "for x in h5_list:\n",
    "    x.smooth_locations()\n",
    "    x.__get_info__(x.name)\n",
    "    subj_velocities[x.name] = np.nan_to_num(x.node_velocity(thor)[0])\n",
    "    agent_velocities[x.name] = np.nan_to_num(x.node_velocity(thor)[1])\n",
    "\n"
   ]
  },
  {
   "cell_type": "code",
   "execution_count": 653,
   "metadata": {},
   "outputs": [
    {
     "data": {
      "text/plain": [
       "{'h5_files/20230803 101331 1.2_converted.analysis.h5': array([0.30042303, 0.209346  , 0.12950578, ..., 1.66439738, 2.01655617,\n",
       "        2.3875633 ]),\n",
       " 'h5_files/20230803 121318 1.1_converted.analysis.h5': array([0.20499524, 0.18308842, 0.16253663, ..., 0.29308241, 0.28531213,\n",
       "        0.27575123]),\n",
       " 'h5_files/20230803 141047 1.1_converted.analysis.h5': array([3.82144695, 4.28487782, 4.70759894, ..., 0.27692253, 0.35483133,\n",
       "        0.58818361]),\n",
       " 'h5_files/20230803_101331_1.1converted.analysis.h5': array([0.6288373 , 0.48900911, 0.36031611, ..., 2.40103379, 2.5832219 ,\n",
       "        2.79480328]),\n",
       " 'h5_files/20230803_121318_1.2_corrected.analysis.h5': array([0.54446433, 0.32087649, 0.25568068, ..., 3.11067253, 3.45555249,\n",
       "        3.84144273]),\n",
       " 'h5_files/20230804_121600_1.1_converted.analysis.h5': array([0.03423879, 0.02938207, 0.02497569, ..., 3.97602862, 4.78651965,\n",
       "        5.67986463]),\n",
       " 'h5_files/20230804_141009_1.1_converted.analysis.h5': array([0.20378482, 0.18820559, 0.17248429, ..., 0.75211128, 0.86481348,\n",
       "        0.98708007]),\n",
       " 'h5_files/20230817 113746 1.1_converted.analysis.h5': array([7.74298082, 6.90206326, 6.16537998, ..., 0.92997939, 0.78449561,\n",
       "        0.75438896]),\n",
       " 'h5_files/20230817_100823_1.1_converted.analysis.h5': array([0.266263  , 0.17422902, 0.09082687, ..., 0.19325223, 0.14810049,\n",
       "        0.10750018]),\n",
       " 'h5_files/20230818 115728 1.1_converted.analysis.h5': array([2.01932726, 2.58908116, 3.12239944, ..., 0.22533198, 0.34068961,\n",
       "        0.46973107]),\n",
       " 'h5_files/20230818 115728 1.2_converted.analysis.h5': array([0.11035201, 0.10684771, 0.12825504, ..., 1.66752395, 1.89559008,\n",
       "        2.13827805]),\n",
       " 'h5_files/20230818 133620 1.1_converted.analysis.h5': array([1.64427358e-14, 1.97120496e-14, 2.42447613e-14, ...,\n",
       "        1.94061169e+00, 2.19375011e+00, 2.46270752e+00])}"
      ]
     },
     "execution_count": 653,
     "metadata": {},
     "output_type": "execute_result"
    }
   ],
   "source": [
    "subj_velocities"
   ]
  },
  {
   "cell_type": "code",
   "execution_count": 654,
   "metadata": {},
   "outputs": [
    {
     "data": {
      "text/plain": [
       "array([0.62735195, 0.62752731, 2.19444479, 1.23853342, 0.57567814,\n",
       "       0.00803158, 0.03595005, 0.71941891, 2.68957133, 0.02620608,\n",
       "       0.38379512])"
      ]
     },
     "execution_count": 654,
     "metadata": {},
     "output_type": "execute_result"
    }
   ],
   "source": [
    "ITI_vels = get_avg_vel(exdict, \"ITI\", subj_velocities)\n",
    "ITI_vels"
   ]
  },
  {
   "cell_type": "code",
   "execution_count": 655,
   "metadata": {},
   "outputs": [
    {
     "data": {
      "text/plain": [
       "array([0.83868497, 2.23619795, 0.7793022 , 0.71800571, 1.04996693,\n",
       "       0.57420779, 3.18227227, 1.49881851, 0.69564598])"
      ]
     },
     "execution_count": 655,
     "metadata": {},
     "output_type": "execute_result"
    }
   ],
   "source": [
    "fam_vels= get_avg_vel(exdict, \"Familiar\", subj_velocities)\n",
    "fam_vels"
   ]
  },
  {
   "cell_type": "code",
   "execution_count": 656,
   "metadata": {},
   "outputs": [
    {
     "data": {
      "text/plain": [
       "array([0.97359215, 2.53696616, 1.12291046, 2.5456736 , 1.97920948,\n",
       "       0.59051561, 2.57601037, 1.39744066, 0.77154653])"
      ]
     },
     "execution_count": 656,
     "metadata": {},
     "output_type": "execute_result"
    }
   ],
   "source": [
    "novel_vels= get_avg_vel(exdict, \"Novel\", subj_velocities)\n",
    "novel_vels"
   ]
  },
  {
   "cell_type": "code",
   "execution_count": 657,
   "metadata": {},
   "outputs": [
    {
     "data": {
      "text/plain": [
       "array([0.96515161, 0.93382535, 0.79156271, 2.50328803, 1.35870194,\n",
       "       0.73796999, 2.02296119, 1.39458542, 0.6116056 ])"
      ]
     },
     "execution_count": 657,
     "metadata": {},
     "output_type": "execute_result"
    }
   ],
   "source": [
    "cm_vels = get_avg_vel(exdict, \"Cagemate\", subj_velocities)\n",
    "cm_vels"
   ]
  },
  {
   "cell_type": "code",
   "execution_count": 658,
   "metadata": {},
   "outputs": [
    {
     "name": "stdout",
     "output_type": "stream",
     "text": [
      "0.8296826066433431\n",
      "1.2859002552212984\n",
      "1.610429445522779\n",
      "1.257739093936112\n"
     ]
    }
   ],
   "source": [
    "ITI_avg = np.mean(ITI_vels)\n",
    "fam_avg = np.mean(fam_vels)\n",
    "nov_avg = np.mean(novel_vels)\n",
    "cm_avg = np.mean(cm_vels)\n",
    "\n",
    "print(ITI_avg)\n",
    "print(fam_avg)\n",
    "print(nov_avg)\n",
    "print(cm_avg)\n"
   ]
  },
  {
   "cell_type": "code",
   "execution_count": 659,
   "metadata": {},
   "outputs": [
    {
     "name": "stdout",
     "output_type": "stream",
     "text": [
      "0.26623492119814557\n",
      "0.2942585983292029\n",
      "0.26962027444412956\n",
      "0.21283058609875558\n"
     ]
    }
   ],
   "source": [
    "ITI_std = stats.sem(ITI_vels)\n",
    "fam_std = stats.sem(fam_vels)\n",
    "nov_std = stats.sem(novel_vels)\n",
    "cm_std = stats.sem(cm_vels)\n",
    "\n",
    "\n",
    "print(ITI_std)\n",
    "print(fam_std)\n",
    "print(nov_std)\n",
    "print(cm_std)\n"
   ]
  },
  {
   "cell_type": "code",
   "execution_count": 660,
   "metadata": {},
   "outputs": [
    {
     "data": {
      "image/png": "[encoded data removed]",
      "text/plain": [
       "<Figure size 640x480 with 1 Axes>"
      ]
     },
     "metadata": {},
     "output_type": "display_data"
    }
   ],
   "source": [
    "fig, ax = plt.subplots()\n",
    "\n",
    "agents = ['ITI', 'Familiar', 'Novel', 'Cagemate']\n",
    "counts = [ITI_avg, fam_avg, nov_avg, cm_avg]\n",
    "err= [ITI_std,fam_std,nov_std,cm_std]\n",
    "\n",
    "ax.bar(agents, counts)\n",
    "\n",
    "ax.set_ylabel('Avg velocity')\n",
    "ax.set_title(\"overall\")\n",
    "\n",
    "plt.errorbar(agents, counts, yerr=err, fmt=\"o\", color=\"r\")\n",
    "\n",
    "plt.show()"
   ]
  },
  {
   "cell_type": "markdown",
   "metadata": {},
   "source": [
    "Phase 2 by subject"
   ]
  },
  {
   "cell_type": "markdown",
   "metadata": {},
   "source": [
    "1.1"
   ]
  },
  {
   "cell_type": "code",
   "execution_count": 661,
   "metadata": {},
   "outputs": [],
   "source": [
    "df_11 = video_df[video_df[\"subject\"] == 1.1]"
   ]
  },
  {
   "cell_type": "code",
   "execution_count": 662,
   "metadata": {},
   "outputs": [
    {
     "data": {
      "text/html": [
       "<div>\n",
       "<style scoped>\n",
       "    .dataframe tbody tr th:only-of-type {\n",
       "        vertical-align: middle;\n",
       "    }\n",
       "\n",
       "    .dataframe tbody tr th {\n",
       "        vertical-align: top;\n",
       "    }\n",
       "\n",
       "    .dataframe thead th {\n",
       "        text-align: right;\n",
       "    }\n",
       "</style>\n",
       "<table border=\"1\" class=\"dataframe\">\n",
       "  <thead>\n",
       "    <tr style=\"text-align: right;\">\n",
       "      <th></th>\n",
       "      <th>Name of Recording</th>\n",
       "      <th>subject</th>\n",
       "      <th>Familiarization Trial</th>\n",
       "      <th>Mouse taken out</th>\n",
       "      <th>ITI</th>\n",
       "      <th>Social Type 1</th>\n",
       "      <th>Mouse put in</th>\n",
       "      <th>Social 1</th>\n",
       "      <th>Social Type 2</th>\n",
       "      <th>Mouse taken out/put in</th>\n",
       "      <th>Social 2</th>\n",
       "      <th>Social Type 3</th>\n",
       "      <th>Social 3</th>\n",
       "    </tr>\n",
       "  </thead>\n",
       "  <tbody>\n",
       "    <tr>\n",
       "      <th>0</th>\n",
       "      <td>h5_files/20230803_101331_1.1converted.analysis.h5</td>\n",
       "      <td>1.1</td>\n",
       "      <td>0:06-9:59</td>\n",
       "      <td>9:59-10:03</td>\n",
       "      <td>10:03-13:41</td>\n",
       "      <td>Familiar</td>\n",
       "      <td>empty</td>\n",
       "      <td>empty</td>\n",
       "      <td>empty</td>\n",
       "      <td>empty</td>\n",
       "      <td>empty</td>\n",
       "      <td>empty</td>\n",
       "      <td>empty</td>\n",
       "    </tr>\n",
       "    <tr>\n",
       "      <th>1</th>\n",
       "      <td>h5_files/20230803 101331 1.2_converted.analysi...</td>\n",
       "      <td>1.1</td>\n",
       "      <td>empty</td>\n",
       "      <td>empty</td>\n",
       "      <td>0:00-6:14</td>\n",
       "      <td>Familiar</td>\n",
       "      <td>6:14-6:17</td>\n",
       "      <td>6:17-11:11</td>\n",
       "      <td>Cagemate</td>\n",
       "      <td>11:11-11:17</td>\n",
       "      <td>11:17-16:10</td>\n",
       "      <td>Novel</td>\n",
       "      <td>16:16-60:00</td>\n",
       "    </tr>\n",
       "    <tr>\n",
       "      <th>11</th>\n",
       "      <td>h5_files/20230817_100823_1.1_converted.analysi...</td>\n",
       "      <td>1.1</td>\n",
       "      <td>0:00-10: 30</td>\n",
       "      <td>10:30-10:33</td>\n",
       "      <td>10:33-20:26</td>\n",
       "      <td>Cagemate</td>\n",
       "      <td>20:26-20:28</td>\n",
       "      <td>20:28-25:26</td>\n",
       "      <td>Novel</td>\n",
       "      <td>25:26-25:31</td>\n",
       "      <td>25:31-30:28</td>\n",
       "      <td>Familiar</td>\n",
       "      <td>30:28-60:00</td>\n",
       "    </tr>\n",
       "  </tbody>\n",
       "</table>\n",
       "</div>"
      ],
      "text/plain": [
       "                                    Name of Recording  subject  \\\n",
       "0   h5_files/20230803_101331_1.1converted.analysis.h5      1.1   \n",
       "1   h5_files/20230803 101331 1.2_converted.analysi...      1.1   \n",
       "11  h5_files/20230817_100823_1.1_converted.analysi...      1.1   \n",
       "\n",
       "   Familiarization Trial Mouse taken out          ITI Social Type 1  \\\n",
       "0              0:06-9:59      9:59-10:03  10:03-13:41      Familiar   \n",
       "1                  empty           empty    0:00-6:14      Familiar   \n",
       "11           0:00-10: 30     10:30-10:33  10:33-20:26      Cagemate   \n",
       "\n",
       "   Mouse put in     Social 1 Social Type 2 Mouse taken out/put in  \\\n",
       "0         empty        empty         empty                  empty   \n",
       "1     6:14-6:17   6:17-11:11      Cagemate            11:11-11:17   \n",
       "11  20:26-20:28  20:28-25:26         Novel            25:26-25:31   \n",
       "\n",
       "       Social 2 Social Type 3     Social 3  \n",
       "0         empty         empty        empty  \n",
       "1   11:17-16:10         Novel  16:16-60:00  \n",
       "11  25:31-30:28      Familiar  30:28-60:00  "
      ]
     },
     "execution_count": 662,
     "metadata": {},
     "output_type": "execute_result"
    }
   ],
   "source": [
    "df_11"
   ]
  },
  {
   "cell_type": "code",
   "execution_count": 663,
   "metadata": {},
   "outputs": [],
   "source": [
    "exdict11 = {}\n",
    "exdict11[\"ITI\"] = {}\n",
    "for x in social_agents:\n",
    "    exdict11[x]={}\n",
    "    "
   ]
  },
  {
   "cell_type": "code",
   "execution_count": 664,
   "metadata": {},
   "outputs": [],
   "source": [
    "for index, row in df_11.iterrows():\n",
    "    exdict11[row['Social Type 1']][row['Name of Recording']]=row['Social 1']\n",
    "    exdict11[row['Social Type 2']][row['Name of Recording']]=row['Social 2']\n",
    "    exdict11[row['Social Type 3']][row['Name of Recording']]=row['Social 3']\n",
    "    exdict11[\"ITI\"][row[\"Name of Recording\"]]=row['ITI']\n",
    "\n",
    "exdict11[\"ITI\"]={key:val for key, val in exdict11[\"ITI\"].items() if val != \"empty\"}\n",
    "for x in social_agents:\n",
    "    exdict11[x]={key:val for key, val in exdict11[x].items() if val != 'empty'}\n",
    "    "
   ]
  },
  {
   "cell_type": "code",
   "execution_count": 665,
   "metadata": {},
   "outputs": [
    {
     "data": {
      "text/plain": [
       "{'ITI': {'h5_files/20230803_101331_1.1converted.analysis.h5': '10:03-13:41',\n",
       "  'h5_files/20230803 101331 1.2_converted.analysis.h5': '0:00-6:14',\n",
       "  'h5_files/20230817_100823_1.1_converted.analysis.h5': '10:33-20:26'},\n",
       " 'Cagemate': {'h5_files/20230803 101331 1.2_converted.analysis.h5': '11:17-16:10',\n",
       "  'h5_files/20230817_100823_1.1_converted.analysis.h5': '20:28-25:26'},\n",
       " 'Novel': {'h5_files/20230803 101331 1.2_converted.analysis.h5': '16:16-60:00',\n",
       "  'h5_files/20230817_100823_1.1_converted.analysis.h5': '25:31-30:28'},\n",
       " 'empty': {},\n",
       " 'Familiar': {'h5_files/20230803 101331 1.2_converted.analysis.h5': '6:17-11:11',\n",
       "  'h5_files/20230817_100823_1.1_converted.analysis.h5': '30:28-60:00'}}"
      ]
     },
     "execution_count": 665,
     "metadata": {},
     "output_type": "execute_result"
    }
   ],
   "source": [
    "exdict11"
   ]
  },
  {
   "cell_type": "code",
   "execution_count": 666,
   "metadata": {},
   "outputs": [],
   "source": [
    "ITI11 = get_avg_vel(exdict11, \"ITI\",subj_velocities)\n",
    "fam11 = get_avg_vel(exdict11, \"Familiar\", subj_velocities)\n",
    "nov11 = get_avg_vel(exdict11, \"Novel\", subj_velocities)\n",
    "cm11 = get_avg_vel(exdict11, \"Cagemate\", subj_velocities)"
   ]
  },
  {
   "cell_type": "code",
   "execution_count": 667,
   "metadata": {},
   "outputs": [],
   "source": [
    "ITI11a = np.mean(ITI11)\n",
    "fam11a = np.mean(fam11)\n",
    "nov11a = np.mean(nov11)\n",
    "cm11a = np.mean(cm11)\n",
    "\n",
    "ITI11s = stats.sem(ITI11)\n",
    "fam11s = stats.sem(fam11)\n",
    "nov11s = stats.sem(nov11)\n",
    "cm11s = stats.sem(cm11)"
   ]
  },
  {
   "cell_type": "code",
   "execution_count": 668,
   "metadata": {},
   "outputs": [
    {
     "name": "stdout",
     "output_type": "stream",
     "text": [
      "0.0812148511475344\n"
     ]
    }
   ],
   "source": [
    "print(ITI11s)"
   ]
  },
  {
   "cell_type": "code",
   "execution_count": 669,
   "metadata": {},
   "outputs": [
    {
     "data": {
      "image/png": "[encoded data removed]",
      "text/plain": [
       "<Figure size 640x480 with 1 Axes>"
      ]
     },
     "metadata": {},
     "output_type": "display_data"
    }
   ],
   "source": [
    "fig, ax = plt.subplots()\n",
    "\n",
    "agents = ['ITI', 'Familiar', 'Novel', 'Cagemate']\n",
    "counts = [ITI11a, fam11a, nov11a, cm11a]\n",
    "err= [ITI11s,fam11s,nov11s,cm11s]\n",
    "\n",
    "ax.bar(agents, counts)\n",
    "\n",
    "ax.set_ylabel('Avg velocity')\n",
    "ax.set_title(\"1.1\")\n",
    "\n",
    "plt.errorbar(agents, counts, yerr=err, fmt=\"o\", color=\"r\")\n",
    "\n",
    "plt.show()"
   ]
  },
  {
   "cell_type": "markdown",
   "metadata": {},
   "source": [
    "1.2"
   ]
  },
  {
   "cell_type": "code",
   "execution_count": 670,
   "metadata": {},
   "outputs": [],
   "source": [
    "df_12 = video_df[video_df[\"subject\"] == 1.2]"
   ]
  },
  {
   "cell_type": "code",
   "execution_count": 671,
   "metadata": {},
   "outputs": [],
   "source": [
    "exdict12 = {}\n",
    "exdict12[\"ITI\"] = {}\n",
    "for x in social_agents:\n",
    "    exdict12[x]={}\n",
    "    "
   ]
  },
  {
   "cell_type": "code",
   "execution_count": 672,
   "metadata": {},
   "outputs": [],
   "source": [
    "for index, row in df_12.iterrows():\n",
    "    exdict12[row['Social Type 1']][row['Name of Recording']]=row['Social 1']\n",
    "    exdict12[row['Social Type 2']][row['Name of Recording']]=row['Social 2']\n",
    "    exdict12[row['Social Type 3']][row['Name of Recording']]=row['Social 3']\n",
    "    exdict12[\"ITI\"][row[\"Name of Recording\"]]=row['ITI']\n",
    "\n",
    "exdict12[\"ITI\"]={key:val for key, val in exdict12[\"ITI\"].items() if val != \"empty\"}\n",
    "for x in social_agents:\n",
    "    exdict12[x]={key:val for key, val in exdict12[x].items() if val != 'empty'}    \n",
    "    "
   ]
  },
  {
   "cell_type": "code",
   "execution_count": 673,
   "metadata": {},
   "outputs": [
    {
     "data": {
      "text/plain": [
       "{'ITI': {'h5_files/20230804_141009_1.1_converted.analysis.h5': '10:06-19:59',\n",
       "  'h5_files/20230817 113746 1.1_converted.analysis.h5': '10:04-20:00',\n",
       "  'h5_files/20230803 141047 1.1_converted.analysis.h5': '10:05-20:00'},\n",
       " 'Cagemate': {'h5_files/20230804_141009_1.1_converted.analysis.h5': '30:06-60:00',\n",
       "  'h5_files/20230817 113746 1.1_converted.analysis.h5': '25:06-30:11',\n",
       "  'h5_files/20230803 141047 1.1_converted.analysis.h5': '20:03-25:00'},\n",
       " 'Novel': {'h5_files/20230804_141009_1.1_converted.analysis.h5': '20:02-25:00',\n",
       "  'h5_files/20230817 113746 1.1_converted.analysis.h5': '30:17-60:00',\n",
       "  'h5_files/20230803 141047 1.1_converted.analysis.h5': '25:06-30:00'},\n",
       " 'empty': {},\n",
       " 'Familiar': {'h5_files/20230804_141009_1.1_converted.analysis.h5': '25:08-30:00',\n",
       "  'h5_files/20230817 113746 1.1_converted.analysis.h5': '20:03-24:59',\n",
       "  'h5_files/20230803 141047 1.1_converted.analysis.h5': '30:06-60:00'}}"
      ]
     },
     "execution_count": 673,
     "metadata": {},
     "output_type": "execute_result"
    }
   ],
   "source": [
    "exdict12"
   ]
  },
  {
   "cell_type": "code",
   "execution_count": 674,
   "metadata": {},
   "outputs": [],
   "source": [
    "ITI12 = get_avg_vel(exdict12, \"ITI\",subj_velocities)\n",
    "fam12 = get_avg_vel(exdict12, \"Familiar\", subj_velocities)\n",
    "nov12 = get_avg_vel(exdict12, \"Novel\", subj_velocities)\n",
    "cm12 = get_avg_vel(exdict12, \"Cagemate\", subj_velocities)"
   ]
  },
  {
   "cell_type": "code",
   "execution_count": 675,
   "metadata": {},
   "outputs": [],
   "source": [
    "ITI12a = np.mean(ITI12)\n",
    "fam12a = np.mean(fam12)\n",
    "nov12a = np.mean(nov12)\n",
    "cm12a = np.mean(cm12)\n",
    "\n",
    "ITI12s = stats.sem(ITI12)\n",
    "fam12s = stats.sem(fam12)\n",
    "nov12s = stats.sem(nov12)\n",
    "cm12s = stats.sem(cm12)"
   ]
  },
  {
   "cell_type": "code",
   "execution_count": 676,
   "metadata": {},
   "outputs": [
    {
     "data": {
      "image/png": "[encoded data removed]",
      "text/plain": [
       "<Figure size 640x480 with 1 Axes>"
      ]
     },
     "metadata": {},
     "output_type": "display_data"
    }
   ],
   "source": [
    "fig, ax = plt.subplots()\n",
    "\n",
    "agents = ['ITI', 'Familiar', 'Novel', 'Cagemate']\n",
    "counts = [ITI12a, fam12a, nov12a, cm12a]\n",
    "err= [ITI12s,fam12s,nov12s,cm12s]\n",
    "\n",
    "ax.bar(agents, counts)\n",
    "\n",
    "ax.set_ylabel('Avg velocity')\n",
    "ax.set_title(\"1.2\")\n",
    "\n",
    "plt.errorbar(agents, counts, yerr=err, fmt=\"o\", color=\"r\")\n",
    "\n",
    "plt.show()"
   ]
  },
  {
   "cell_type": "markdown",
   "metadata": {},
   "source": [
    "1.4"
   ]
  },
  {
   "cell_type": "code",
   "execution_count": 677,
   "metadata": {},
   "outputs": [],
   "source": [
    "df_14 = video_df[video_df[\"subject\"] == 1.4]"
   ]
  },
  {
   "cell_type": "code",
   "execution_count": 678,
   "metadata": {},
   "outputs": [],
   "source": [
    "exdict14 = {}\n",
    "exdict14[\"ITI\"] = {}\n",
    "for x in social_agents:\n",
    "    exdict14[x]={}\n",
    "    \n",
    "for index, row in df_14.iterrows():\n",
    "    exdict14[row['Social Type 1']][row['Name of Recording']]=row['Social 1']\n",
    "    exdict14[row['Social Type 2']][row['Name of Recording']]=row['Social 2']\n",
    "    exdict14[row['Social Type 3']][row['Name of Recording']]=row['Social 3']\n",
    "    exdict14[\"ITI\"][row[\"Name of Recording\"]]=row['ITI']\n",
    "\n",
    "exdict14[\"ITI\"]={key:val for key, val in exdict14[\"ITI\"].items() if val != \"empty\"}\n",
    "for x in social_agents:\n",
    "    exdict14[x]={key:val for key, val in exdict14[x].items() if val != 'empty'}        \n",
    "\n",
    "ITI14 = get_avg_vel(exdict14, \"ITI\",subj_velocities)\n",
    "fam14 = get_avg_vel(exdict14, \"Familiar\", subj_velocities)\n",
    "nov14 = get_avg_vel(exdict14, \"Novel\", subj_velocities)\n",
    "cm14 = get_avg_vel(exdict14, \"Cagemate\", subj_velocities)\n",
    "\n",
    "ITI14a = np.mean(ITI14)\n",
    "fam14a = np.mean(fam14)\n",
    "nov14a = np.mean(nov14)\n",
    "cm14a = np.mean(cm14)\n",
    "\n",
    "ITI14s = stats.sem(ITI14)\n",
    "fam14s = stats.sem(fam14)\n",
    "nov14s = stats.sem(nov14)\n",
    "cm14s = stats.sem(cm14)"
   ]
  },
  {
   "cell_type": "code",
   "execution_count": 679,
   "metadata": {},
   "outputs": [
    {
     "data": {
      "image/png": "[encoded data removed]",
      "text/plain": [
       "<Figure size 640x480 with 1 Axes>"
      ]
     },
     "metadata": {},
     "output_type": "display_data"
    }
   ],
   "source": [
    "fig, ax = plt.subplots()\n",
    "\n",
    "agents = ['ITI', 'Familiar', 'Novel', 'Cagemate']\n",
    "counts = [ITI14a, fam14a, nov14a, cm14a]\n",
    "err= [ITI14s,fam14s,nov14s,cm14s]\n",
    "\n",
    "ax.bar(agents, counts)\n",
    "\n",
    "ax.set_ylabel('Avg velocity')\n",
    "ax.set_title(\"1.4\")\n",
    "\n",
    "plt.errorbar(agents, counts, yerr=err, fmt=\"o\", color=\"r\")\n",
    "\n",
    "plt.show()"
   ]
  },
  {
   "cell_type": "markdown",
   "metadata": {},
   "source": [
    "2.4"
   ]
  },
  {
   "cell_type": "code",
   "execution_count": null,
   "metadata": {},
   "outputs": [],
   "source": []
  },
  {
   "cell_type": "markdown",
   "metadata": {},
   "source": [
    "Phase 3"
   ]
  },
  {
   "cell_type": "markdown",
   "metadata": {},
   "source": [
    "Cup labels"
   ]
  },
  {
   "cell_type": "code",
   "execution_count": 680,
   "metadata": {},
   "outputs": [
    {
     "name": "stdout",
     "output_type": "stream",
     "text": [
      "['20230803 101331 1.2_converted.analysis.h5', '20230803 121318 1.1_converted.analysis.h5', '20230803 141047 1.1_converted.analysis.h5', '20230803_101331_1.1converted.analysis.h5', '20230803_121318_1.2_corrected.analysis.h5', '20230804_121600_1.1_converted.analysis.h5', '20230804_141009_1.1_converted.analysis.h5', '20230817 113746 1.1_converted.analysis.h5', '20230817_100823_1.1_converted.analysis.h5', '20230818 115728 1.1_converted.analysis.h5', '20230818 115728 1.2_converted.analysis.h5', '20230818 133620 1.1_converted.analysis.h5']\n"
     ]
    }
   ],
   "source": [
    "p3_filenames = os.listdir('h5_p3/')\n",
    "print(filenames)\n"
   ]
  },
  {
   "cell_type": "code",
   "execution_count": 681,
   "metadata": {},
   "outputs": [
    {
     "name": "stdout",
     "output_type": "stream",
     "text": [
      "[<__main__.sleap_vid object at 0x0000027ADA6172F0>, <__main__.sleap_vid object at 0x0000027ADBB16330>, <__main__.sleap_vid object at 0x0000027ADD559040>, <__main__.sleap_vid object at 0x0000027ADA569F10>, <__main__.sleap_vid object at 0x0000027ADAD52F00>, <__main__.sleap_vid object at 0x0000027ADA626B40>, <__main__.sleap_vid object at 0x0000027ADB114410>, <__main__.sleap_vid object at 0x0000027ADBACA6C0>, <__main__.sleap_vid object at 0x0000027ADA61B170>]\n"
     ]
    }
   ],
   "source": [
    "h5_p3_list = []\n",
    "corner_list = []\n",
    "\n",
    "for x in p3_filenames:\n",
    "    h5_p3_list.append(sleap_vid(\"h5_p3/\"+x,1))\n",
    "    corner_list.append(sleap_vid(\"cup_labels/corners.\"+x, 4))\n",
    "\n",
    "print(h5_p3_list)\n"
   ]
  },
  {
   "cell_type": "code",
   "execution_count": 682,
   "metadata": {},
   "outputs": [
    {
     "name": "stdout",
     "output_type": "stream",
     "text": [
      "['cup_1', 'cup_3', 'cup_2', 'cup_4']\n",
      "['cup_1', 'cup_2', 'cup_3', 'cup_4']\n",
      "['cup_1', 'cup_2', 'cup_3', 'cup_4']\n",
      "['cup_1', 'cup_2', 'cup_3', 'cup_4']\n",
      "['cup_1', 'cup_2', 'cup_3', 'cup_4']\n",
      "['cup_1', 'cup_2', 'cup_3', 'cup_4']\n",
      "['cup_1', 'cup_2', 'cup_3', 'cup_4']\n",
      "['cup_1', 'cup_2', 'cup_3', 'cup_4']\n",
      "['cup_1', 'cup_2', 'cup_3', 'cup_4']\n"
     ]
    }
   ],
   "source": [
    "for x in corner_list:\n",
    "    x.__get_info__(x.name)\n",
    "    print(x.tracks)\n",
    "    "
   ]
  },
  {
   "cell_type": "code",
   "execution_count": 683,
   "metadata": {},
   "outputs": [
    {
     "data": {
      "text/html": [
       "<div>\n",
       "<style scoped>\n",
       "    .dataframe tbody tr th:only-of-type {\n",
       "        vertical-align: middle;\n",
       "    }\n",
       "\n",
       "    .dataframe tbody tr th {\n",
       "        vertical-align: top;\n",
       "    }\n",
       "\n",
       "    .dataframe thead th {\n",
       "        text-align: right;\n",
       "    }\n",
       "</style>\n",
       "<table border=\"1\" class=\"dataframe\">\n",
       "  <thead>\n",
       "    <tr style=\"text-align: right;\">\n",
       "      <th></th>\n",
       "      <th>Name of Recording</th>\n",
       "      <th>Baseline</th>\n",
       "      <th>Mouse put in</th>\n",
       "      <th>Familiarization</th>\n",
       "      <th>Cup</th>\n",
       "      <th>Mouse taken out</th>\n",
       "      <th>ITI</th>\n",
       "      <th>Mice put in</th>\n",
       "      <th>Cup 1</th>\n",
       "      <th>Cup 2</th>\n",
       "      <th>Cup 3</th>\n",
       "      <th>Cup 4</th>\n",
       "      <th>Familiar</th>\n",
       "      <th>Novel</th>\n",
       "      <th>Cagemate</th>\n",
       "      <th>Empty</th>\n",
       "      <th>Unnamed: 16</th>\n",
       "      <th>Unnamed: 17</th>\n",
       "      <th>Unnamed: 18</th>\n",
       "    </tr>\n",
       "  </thead>\n",
       "  <tbody>\n",
       "    <tr>\n",
       "      <th>0</th>\n",
       "      <td>20230811 101635 1.1_converted.analysis.h5</td>\n",
       "      <td>0:00-10:01</td>\n",
       "      <td>10:01-10:08</td>\n",
       "      <td>10:08-20:08</td>\n",
       "      <td>4.0</td>\n",
       "      <td>20:08-20:21</td>\n",
       "      <td>20:21-30:09</td>\n",
       "      <td>30:09-31:43</td>\n",
       "      <td>Cagemate</td>\n",
       "      <td>Empty</td>\n",
       "      <td>Novel</td>\n",
       "      <td>Familiar</td>\n",
       "      <td>cup_4</td>\n",
       "      <td>cup_3</td>\n",
       "      <td>cup_1</td>\n",
       "      <td>cup_2</td>\n",
       "      <td>done</td>\n",
       "      <td>empty</td>\n",
       "      <td>empty</td>\n",
       "    </tr>\n",
       "    <tr>\n",
       "      <th>1</th>\n",
       "      <td>20230809 120416 1.2_converted.analysis.h5</td>\n",
       "      <td>0:00-0:30</td>\n",
       "      <td>0:30-0:44</td>\n",
       "      <td>0:44-10:46</td>\n",
       "      <td>3.0</td>\n",
       "      <td>10:46-11:06</td>\n",
       "      <td>11:06-21:03</td>\n",
       "      <td>21:03-22:56</td>\n",
       "      <td>Empty</td>\n",
       "      <td>Novel</td>\n",
       "      <td>Familiar</td>\n",
       "      <td>Cagemate</td>\n",
       "      <td>cup_3</td>\n",
       "      <td>cup_2</td>\n",
       "      <td>cup_4</td>\n",
       "      <td>cup_1</td>\n",
       "      <td>skip for now</td>\n",
       "      <td>deepnote</td>\n",
       "      <td>IGNORE FOR EPHYS</td>\n",
       "    </tr>\n",
       "    <tr>\n",
       "      <th>2</th>\n",
       "      <td>20230809 103121 1.1_converted.analysis.h5</td>\n",
       "      <td>0:00-10:01</td>\n",
       "      <td>10:01-11:15</td>\n",
       "      <td>11:15-20:58</td>\n",
       "      <td>2.0</td>\n",
       "      <td>20:58-21:11</td>\n",
       "      <td>21:11-31:00</td>\n",
       "      <td>31:00-32:19</td>\n",
       "      <td>Novel</td>\n",
       "      <td>Familiar</td>\n",
       "      <td>Cagemate</td>\n",
       "      <td>Empty</td>\n",
       "      <td>cup_2</td>\n",
       "      <td>cup_1</td>\n",
       "      <td>cup_3</td>\n",
       "      <td>cup_4</td>\n",
       "      <td>done</td>\n",
       "      <td>deepnote</td>\n",
       "      <td>empty</td>\n",
       "    </tr>\n",
       "    <tr>\n",
       "      <th>3</th>\n",
       "      <td>20230811 120331.1_converted.analysis.h5</td>\n",
       "      <td>0:00-10:11</td>\n",
       "      <td>10:11-10: 28</td>\n",
       "      <td>10:28-20:30</td>\n",
       "      <td>1.0</td>\n",
       "      <td>20:30-20:44</td>\n",
       "      <td>20:44-25:02</td>\n",
       "      <td>empty</td>\n",
       "      <td>empty</td>\n",
       "      <td>empty</td>\n",
       "      <td>empty</td>\n",
       "      <td>empty</td>\n",
       "      <td>empty</td>\n",
       "      <td>empty</td>\n",
       "      <td>empty</td>\n",
       "      <td>empty</td>\n",
       "      <td>skip for now</td>\n",
       "      <td>deepnote</td>\n",
       "      <td>empty</td>\n",
       "    </tr>\n",
       "    <tr>\n",
       "      <th>4</th>\n",
       "      <td>20230809 143303 1.1_converted.analysis.h5</td>\n",
       "      <td>0:00-10:02</td>\n",
       "      <td>10:02-10:29</td>\n",
       "      <td>10:29-20:34</td>\n",
       "      <td>2.0</td>\n",
       "      <td>20:34-21:00</td>\n",
       "      <td>21:00-30:56</td>\n",
       "      <td>30:56-32:33</td>\n",
       "      <td>Cagemate</td>\n",
       "      <td>Familiar</td>\n",
       "      <td>Novel</td>\n",
       "      <td>Empty</td>\n",
       "      <td>cup_2</td>\n",
       "      <td>cup_3</td>\n",
       "      <td>cup_1</td>\n",
       "      <td>cup_4</td>\n",
       "      <td>done</td>\n",
       "      <td>deepnote</td>\n",
       "      <td>empty</td>\n",
       "    </tr>\n",
       "  </tbody>\n",
       "</table>\n",
       "</div>"
      ],
      "text/plain": [
       "                           Name of Recording    Baseline  Mouse put in  \\\n",
       "0  20230811 101635 1.1_converted.analysis.h5  0:00-10:01   10:01-10:08   \n",
       "1  20230809 120416 1.2_converted.analysis.h5   0:00-0:30     0:30-0:44   \n",
       "2  20230809 103121 1.1_converted.analysis.h5  0:00-10:01   10:01-11:15   \n",
       "3    20230811 120331.1_converted.analysis.h5  0:00-10:11  10:11-10: 28   \n",
       "4  20230809 143303 1.1_converted.analysis.h5  0:00-10:02   10:02-10:29   \n",
       "\n",
       "  Familiarization  Cup Mouse taken out          ITI  Mice put in     Cup 1  \\\n",
       "0     10:08-20:08  4.0     20:08-20:21  20:21-30:09  30:09-31:43  Cagemate   \n",
       "1      0:44-10:46  3.0     10:46-11:06  11:06-21:03  21:03-22:56     Empty   \n",
       "2     11:15-20:58  2.0     20:58-21:11  21:11-31:00  31:00-32:19     Novel   \n",
       "3     10:28-20:30  1.0     20:30-20:44  20:44-25:02        empty     empty   \n",
       "4     10:29-20:34  2.0     20:34-21:00  21:00-30:56  30:56-32:33  Cagemate   \n",
       "\n",
       "      Cup 2     Cup 3     Cup 4 Familiar  Novel Cagemate  Empty   Unnamed: 16  \\\n",
       "0     Empty     Novel  Familiar    cup_4  cup_3    cup_1  cup_2          done   \n",
       "1     Novel  Familiar  Cagemate    cup_3  cup_2    cup_4  cup_1  skip for now   \n",
       "2  Familiar  Cagemate     Empty    cup_2  cup_1    cup_3  cup_4          done   \n",
       "3     empty     empty     empty    empty  empty    empty  empty  skip for now   \n",
       "4  Familiar     Novel     Empty    cup_2  cup_3    cup_1  cup_4          done   \n",
       "\n",
       "  Unnamed: 17       Unnamed: 18  \n",
       "0       empty             empty  \n",
       "1    deepnote  IGNORE FOR EPHYS  \n",
       "2    deepnote             empty  \n",
       "3    deepnote             empty  \n",
       "4    deepnote             empty  "
      ]
     },
     "execution_count": 683,
     "metadata": {},
     "output_type": "execute_result"
    }
   ],
   "source": [
    "p3_df = pd.read_excel('ephys_socialmem_vidinfo.xlsx','Phase 3')\n",
    "p3_df=p3_df.fillna(\"empty\")\n",
    "p3_df.head()"
   ]
  },
  {
   "cell_type": "code",
   "execution_count": 684,
   "metadata": {},
   "outputs": [],
   "source": [
    "cups = social_agents\n",
    "cups.add(\"Empty\")"
   ]
  },
  {
   "cell_type": "code",
   "execution_count": 685,
   "metadata": {},
   "outputs": [
    {
     "data": {
      "text/plain": [
       "{'ITI': {},\n",
       " 'Cagemate': {},\n",
       " 'Empty': {},\n",
       " 'empty': {},\n",
       " 'Familiar': {},\n",
       " 'Novel': {}}"
      ]
     },
     "execution_count": 685,
     "metadata": {},
     "output_type": "execute_result"
    }
   ],
   "source": [
    "p3dict = {}\n",
    "p3dict[\"ITI\"] = {}\n",
    "for x in social_agents:\n",
    "    p3dict[x]={}\n",
    "\n",
    "p3dict"
   ]
  },
  {
   "cell_type": "code",
   "execution_count": 686,
   "metadata": {},
   "outputs": [
    {
     "name": "stdout",
     "output_type": "stream",
     "text": [
      "{'ITI': {'20230811 101635 1.1_converted.analysis.h5': '20:21-30:09', '20230809 120416 1.2_converted.analysis.h5': '11:06-21:03', '20230809 103121 1.1_converted.analysis.h5': '21:11-31:00', '20230811 120331.1_converted.analysis.h5': '20:44-25:02', '20230809 143303 1.1_converted.analysis.h5': '21:00-30:56', '20230810 120856 1.1_converted.analysis.h5': '23:30-32:30', '20230810 101534 1.1_converted.analysis.h5': '20:20-30:21', '20230810 140909 1.1_converted.analysis.h5': '20:34-30:36', '20230811 154219 1.1_converted.analysis.h5': '20:11-30:37'}, 'Cagemate': {'20230811 101635 1.1_converted.analysis.h5': 'cup_1', '20230809 120416 1.2_converted.analysis.h5': 'cup_4', '20230809 103121 1.1_converted.analysis.h5': 'cup_3', '20230809 143303 1.1_converted.analysis.h5': 'cup_1', '20230810 120856 1.1_converted.analysis.h5': 'cup_1', '20230810 101534 1.1_converted.analysis.h5': 'cup_4', '20230810 140909 1.1_converted.analysis.h5': 'cup_2', '20230811 154219 1.1_converted.analysis.h5': 'cup_3'}, 'Empty': {'20230811 101635 1.1_converted.analysis.h5': 'cup_2', '20230809 120416 1.2_converted.analysis.h5': 'cup_1', '20230809 103121 1.1_converted.analysis.h5': 'cup_4', '20230809 143303 1.1_converted.analysis.h5': 'cup_4', '20230810 120856 1.1_converted.analysis.h5': 'cup_2', '20230810 101534 1.1_converted.analysis.h5': 'cup_1', '20230810 140909 1.1_converted.analysis.h5': 'cup_1', '20230811 154219 1.1_converted.analysis.h5': 'cup_4'}, 'Familiar': {'20230811 101635 1.1_converted.analysis.h5': 'cup_4', '20230809 120416 1.2_converted.analysis.h5': 'cup_3', '20230809 103121 1.1_converted.analysis.h5': 'cup_2', '20230809 143303 1.1_converted.analysis.h5': 'cup_2', '20230810 120856 1.1_converted.analysis.h5': 'cup_4', '20230810 101534 1.1_converted.analysis.h5': 'cup_3', '20230810 140909 1.1_converted.analysis.h5': 'cup_3', '20230811 154219 1.1_converted.analysis.h5': 'cup_2'}, 'Novel': {'20230811 101635 1.1_converted.analysis.h5': 'cup_3', '20230809 120416 1.2_converted.analysis.h5': 'cup_2', '20230809 103121 1.1_converted.analysis.h5': 'cup_1', '20230809 143303 1.1_converted.analysis.h5': 'cup_3', '20230810 120856 1.1_converted.analysis.h5': 'cup_3', '20230810 101534 1.1_converted.analysis.h5': 'cup_2', '20230810 140909 1.1_converted.analysis.h5': 'cup_4', '20230811 154219 1.1_converted.analysis.h5': 'cup_1'}}\n"
     ]
    }
   ],
   "source": [
    "for index, row in p3_df.iterrows():\n",
    "    p3dict[\"Familiar\"][row['Name of Recording']]=row['Familiar']\n",
    "    p3dict[\"Novel\"][row['Name of Recording']]=row['Novel']\n",
    "    p3dict['Cagemate'][row['Name of Recording']]=row['Cagemate']\n",
    "    p3dict[\"Empty\"][row[\"Name of Recording\"]]=row[\"Empty\"]\n",
    "    p3dict[\"ITI\"][row[\"Name of Recording\"]]=row['ITI']\n",
    "\n",
    "p3dict[\"ITI\"]={key:val for key, val in p3dict[\"ITI\"].items() if val != \"empty\"}\n",
    "for x in cups:\n",
    "    p3dict[x]={key:val for key, val in p3dict[x].items() if val != 'empty'}\n",
    "del p3dict[\"empty\"]\n",
    "print(p3dict)"
   ]
  },
  {
   "cell_type": "code",
   "execution_count": null,
   "metadata": {},
   "outputs": [],
   "source": []
  },
  {
   "cell_type": "code",
   "execution_count": 687,
   "metadata": {},
   "outputs": [
    {
     "data": {
      "text/plain": [
       "{'h5_p3/20230809 103121 1.1_converted.analysis.h5': array([1.19842838, 1.08358966, 0.97505247, ..., 0.61780149, 0.76666294,\n",
       "        0.92533532]),\n",
       " 'h5_p3/20230809 120416 1.2_converted.analysis.h5': array([0.26919752, 0.1912017 , 0.19143952, ..., 0.33492878, 0.49704564,\n",
       "        0.67191313]),\n",
       " 'h5_p3/20230809 143303 1.1_converted.analysis.h5': array([9.10698867, 8.17056793, 7.28483244, ..., 3.44846738, 3.17117014,\n",
       "        2.87444275]),\n",
       " 'h5_p3/20230810 101534 1.1_converted.analysis.h5': array([3.68665385, 2.59077422, 1.60163805, ..., 0.4027512 , 0.47463376,\n",
       "        0.55160471]),\n",
       " 'h5_p3/20230810 120856 1.1_converted.analysis.h5': array([1.51558036, 1.24223198, 0.98975685, ..., 0.16970354, 0.19941186,\n",
       "        0.23150122]),\n",
       " 'h5_p3/20230810 140909 1.1_converted.analysis.h5': array([9.04020882, 7.85323812, 6.74905325, ..., 6.85811839, 7.82947394,\n",
       "        8.9846129 ]),\n",
       " 'h5_p3/20230811 101635 1.1_converted.analysis.h5': array([4.00979811, 3.53134205, 3.0845435 , ..., 0.30880566, 0.19200454,\n",
       "        0.10512469]),\n",
       " 'h5_p3/20230811 120331.1_converted.analysis.h5': array([0.80143652, 0.67948933, 0.56658215, ..., 0.84504666, 0.80912157,\n",
       "        0.81238294]),\n",
       " 'h5_p3/20230811 154219 1.1_converted.analysis.h5': array([6.40599713, 6.24356908, 6.07398782, ..., 0.94493263, 1.1465834 ,\n",
       "        1.36552887])}"
      ]
     },
     "execution_count": 687,
     "metadata": {},
     "output_type": "execute_result"
    }
   ],
   "source": [
    "p3_velocities = {}\n",
    "for x in h5_p3_list:\n",
    "    x.smooth_locations()\n",
    "    x.__get_info__(x.name)\n",
    "    p3_velocities[x.name] = np.nan_to_num(x.node_velocity(thor, num_mice = 1))\n",
    "\n",
    "p3_velocities\n"
   ]
  },
  {
   "cell_type": "code",
   "execution_count": null,
   "metadata": {},
   "outputs": [],
   "source": []
  }
 ],
 "metadata": {
  "kernelspec": {
   "display_name": "sleap_feature_extract",
   "language": "python",
   "name": "python3"
  },
  "language_info": {
   "codemirror_mode": {
    "name": "ipython",
    "version": 3
   },
   "file_extension": ".py",
   "mimetype": "text/x-python",
   "name": "python",
   "nbconvert_exporter": "python",
   "pygments_lexer": "ipython3",
   "version": "3.12.4"
  }
 },
 "nbformat": 4,
 "nbformat_minor": 2
}
